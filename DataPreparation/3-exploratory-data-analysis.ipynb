{
 "cells": [
  {
   "cell_type": "markdown",
   "metadata": {},
   "source": [
    "# 📚 ***Import libraries***"
   ]
  },
  {
   "cell_type": "code",
   "execution_count": 23,
   "metadata": {},
   "outputs": [],
   "source": [
    "# base libraries for data science\n",
    "import sys\n",
    "from pathlib import Path\n",
    "\n",
    "import pandas as pd\n",
    "import seaborn as sns\n",
    "import matplotlib.pyplot as plt"
   ]
  },
  {
   "cell_type": "code",
   "execution_count": 2,
   "metadata": {},
   "outputs": [],
   "source": [
    "# configuration to show only 2 decimal places\n",
    "pd.set_option(\"display.float_format\", \"{:.2f}\".format)"
   ]
  },
  {
   "cell_type": "code",
   "execution_count": 3,
   "metadata": {},
   "outputs": [
    {
     "name": "stdout",
     "output_type": "stream",
     "text": [
      "Python version:  3.12.1 (main, Dec 12 2024, 22:30:56) [GCC 9.4.0]\n",
      "Pandas version:  2.2.3\n"
     ]
    }
   ],
   "source": [
    "# print library version for reproducibility\n",
    "\n",
    "print(\"Python version: \", sys.version)\n",
    "print(\"Pandas version: \", pd.__version__)"
   ]
  },
  {
   "cell_type": "markdown",
   "metadata": {},
   "source": [
    "# 💾 ***Load data***"
   ]
  },
  {
   "cell_type": "code",
   "execution_count": 4,
   "metadata": {},
   "outputs": [],
   "source": [
    "DATA_DIR = Path.cwd().resolve().parents[0] / \"data\"\n",
    "\n",
    "nyc_houses_df = pd.read_parquet(\n",
    "    DATA_DIR / \"02_intermediate/nyc_houses_fixed.parquet\", engine=\"pyarrow\"\n",
    ")"
   ]
  },
  {
   "cell_type": "markdown",
   "metadata": {},
   "source": [
    "# 📊 ***Data description***"
   ]
  },
  {
   "cell_type": "code",
   "execution_count": 5,
   "metadata": {},
   "outputs": [
    {
     "name": "stdout",
     "output_type": "stream",
     "text": [
      "<class 'pandas.core.frame.DataFrame'>\n",
      "RangeIndex: 137276 entries, 0 to 137275\n",
      "Data columns (total 20 columns):\n",
      " #   Column                          Non-Null Count   Dtype         \n",
      "---  ------                          --------------   -----         \n",
      " 0   BUILDING CLASS AT PRESENT       136043 non-null  category      \n",
      " 1   COMMERCIAL UNITS                137274 non-null  Int64         \n",
      " 2   BUILDING CLASS CATEGORY         137274 non-null  category      \n",
      " 3   BUILDING CLASS AT TIME OF SALE  137274 non-null  category      \n",
      " 4   LOT                             137274 non-null  float64       \n",
      " 5   TOTAL UNITS                     137274 non-null  Int64         \n",
      " 6   TAX CLASS AT TIME OF SALE       137274 non-null  float64       \n",
      " 7   ADDRESS                         137274 non-null  category      \n",
      " 8   TAX CLASS AT PRESENT            136043 non-null  category      \n",
      " 9   ZIP CODE                        137274 non-null  float64       \n",
      " 10  SALE DATE                       137274 non-null  datetime64[ns]\n",
      " 11  NEIGHBORHOOD                    137274 non-null  category      \n",
      " 12  RESIDENTIAL UNITS               137274 non-null  Int64         \n",
      " 13  GROSS SQUARE FEET               92408 non-null   float64       \n",
      " 14  BOROUGH                         137274 non-null  float64       \n",
      " 15  BLOCK                           137274 non-null  float64       \n",
      " 16  SALE PRICE                      113608 non-null  float64       \n",
      " 17  APARTMENT NUMBER                31019 non-null   category      \n",
      " 18  YEAR BUILT                      137274 non-null  Int64         \n",
      " 19  LAND SQUARE FEET                94674 non-null   float64       \n",
      "dtypes: Int64(4), category(7), datetime64[ns](1), float64(8)\n",
      "memory usage: 18.6 MB\n"
     ]
    }
   ],
   "source": [
    "nyc_houses_df.info()"
   ]
  },
  {
   "cell_type": "code",
   "execution_count": 6,
   "metadata": {},
   "outputs": [],
   "source": [
    "cols_categorical_nom = ['TAX CLASS AT TIME OF SALE', 'LOT', 'ZIP CODE', 'BOROUGH', 'BLOCK']\n",
    "nyc_houses_df[cols_categorical_nom] = nyc_houses_df[cols_categorical_nom].astype('category')"
   ]
  },
  {
   "cell_type": "code",
   "execution_count": 7,
   "metadata": {},
   "outputs": [
    {
     "name": "stdout",
     "output_type": "stream",
     "text": [
      "<class 'pandas.core.frame.DataFrame'>\n",
      "RangeIndex: 137276 entries, 0 to 137275\n",
      "Data columns (total 20 columns):\n",
      " #   Column                          Non-Null Count   Dtype         \n",
      "---  ------                          --------------   -----         \n",
      " 0   BUILDING CLASS AT PRESENT       136043 non-null  category      \n",
      " 1   COMMERCIAL UNITS                137274 non-null  Int64         \n",
      " 2   BUILDING CLASS CATEGORY         137274 non-null  category      \n",
      " 3   BUILDING CLASS AT TIME OF SALE  137274 non-null  category      \n",
      " 4   LOT                             137274 non-null  category      \n",
      " 5   TOTAL UNITS                     137274 non-null  Int64         \n",
      " 6   TAX CLASS AT TIME OF SALE       137274 non-null  category      \n",
      " 7   ADDRESS                         137274 non-null  category      \n",
      " 8   TAX CLASS AT PRESENT            136043 non-null  category      \n",
      " 9   ZIP CODE                        137274 non-null  category      \n",
      " 10  SALE DATE                       137274 non-null  datetime64[ns]\n",
      " 11  NEIGHBORHOOD                    137274 non-null  category      \n",
      " 12  RESIDENTIAL UNITS               137274 non-null  Int64         \n",
      " 13  GROSS SQUARE FEET               92408 non-null   float64       \n",
      " 14  BOROUGH                         137274 non-null  category      \n",
      " 15  BLOCK                           137274 non-null  category      \n",
      " 16  SALE PRICE                      113608 non-null  float64       \n",
      " 17  APARTMENT NUMBER                31019 non-null   category      \n",
      " 18  YEAR BUILT                      137274 non-null  Int64         \n",
      " 19  LAND SQUARE FEET                94674 non-null   float64       \n",
      "dtypes: Int64(4), category(12), datetime64[ns](1), float64(3)\n",
      "memory usage: 14.8 MB\n"
     ]
    }
   ],
   "source": [
    "nyc_houses_df.info()"
   ]
  },
  {
   "cell_type": "code",
   "execution_count": 8,
   "metadata": {},
   "outputs": [
    {
     "data": {
      "text/plain": [
       "(137276, 20)"
      ]
     },
     "execution_count": 8,
     "metadata": {},
     "output_type": "execute_result"
    }
   ],
   "source": [
    "# size of the dataframe\n",
    "nyc_houses_df.shape"
   ]
  },
  {
   "cell_type": "code",
   "execution_count": 9,
   "metadata": {},
   "outputs": [
    {
     "data": {
      "text/html": [
       "<div>\n",
       "<style scoped>\n",
       "    .dataframe tbody tr th:only-of-type {\n",
       "        vertical-align: middle;\n",
       "    }\n",
       "\n",
       "    .dataframe tbody tr th {\n",
       "        vertical-align: top;\n",
       "    }\n",
       "\n",
       "    .dataframe thead th {\n",
       "        text-align: right;\n",
       "    }\n",
       "</style>\n",
       "<table border=\"1\" class=\"dataframe\">\n",
       "  <thead>\n",
       "    <tr style=\"text-align: right;\">\n",
       "      <th></th>\n",
       "      <th>BUILDING CLASS AT PRESENT</th>\n",
       "      <th>COMMERCIAL UNITS</th>\n",
       "      <th>BUILDING CLASS CATEGORY</th>\n",
       "      <th>BUILDING CLASS AT TIME OF SALE</th>\n",
       "      <th>LOT</th>\n",
       "      <th>TOTAL UNITS</th>\n",
       "      <th>TAX CLASS AT TIME OF SALE</th>\n",
       "      <th>ADDRESS</th>\n",
       "      <th>TAX CLASS AT PRESENT</th>\n",
       "      <th>ZIP CODE</th>\n",
       "      <th>SALE DATE</th>\n",
       "      <th>NEIGHBORHOOD</th>\n",
       "      <th>RESIDENTIAL UNITS</th>\n",
       "      <th>GROSS SQUARE FEET</th>\n",
       "      <th>BOROUGH</th>\n",
       "      <th>BLOCK</th>\n",
       "      <th>SALE PRICE</th>\n",
       "      <th>APARTMENT NUMBER</th>\n",
       "      <th>YEAR BUILT</th>\n",
       "      <th>LAND SQUARE FEET</th>\n",
       "    </tr>\n",
       "  </thead>\n",
       "  <tbody>\n",
       "    <tr>\n",
       "      <th>98832</th>\n",
       "      <td>A1</td>\n",
       "      <td>0</td>\n",
       "      <td>01 ONE FAMILY DWELLINGS</td>\n",
       "      <td>A1</td>\n",
       "      <td>92.00</td>\n",
       "      <td>1</td>\n",
       "      <td>1.00</td>\n",
       "      <td>9 FLORENCE STREET</td>\n",
       "      <td>1</td>\n",
       "      <td>10308.00</td>\n",
       "      <td>2017-01-31</td>\n",
       "      <td>GREAT KILLS</td>\n",
       "      <td>1</td>\n",
       "      <td>1760.00</td>\n",
       "      <td>5.00</td>\n",
       "      <td>5156.00</td>\n",
       "      <td>635000.00</td>\n",
       "      <td>NaN</td>\n",
       "      <td>1988</td>\n",
       "      <td>5037.00</td>\n",
       "    </tr>\n",
       "    <tr>\n",
       "      <th>16483</th>\n",
       "      <td>C6</td>\n",
       "      <td>0</td>\n",
       "      <td>09 COOPS - WALKUP APARTMENTS</td>\n",
       "      <td>C6</td>\n",
       "      <td>1.00</td>\n",
       "      <td>0</td>\n",
       "      <td>2.00</td>\n",
       "      <td>196-43 DUNTON AVENUE, 2C</td>\n",
       "      <td>2</td>\n",
       "      <td>11423.00</td>\n",
       "      <td>2017-03-02</td>\n",
       "      <td>HOLLISWOOD</td>\n",
       "      <td>0</td>\n",
       "      <td>NaN</td>\n",
       "      <td>4.00</td>\n",
       "      <td>10524.00</td>\n",
       "      <td>215000.00</td>\n",
       "      <td>NaN</td>\n",
       "      <td>1950</td>\n",
       "      <td>NaN</td>\n",
       "    </tr>\n",
       "    <tr>\n",
       "      <th>107414</th>\n",
       "      <td>NaN</td>\n",
       "      <td>0</td>\n",
       "      <td>01 ONE FAMILY DWELLINGS</td>\n",
       "      <td>A5</td>\n",
       "      <td>7.00</td>\n",
       "      <td>0</td>\n",
       "      <td>1.00</td>\n",
       "      <td>151 SAND LANE</td>\n",
       "      <td>NaN</td>\n",
       "      <td>10305.00</td>\n",
       "      <td>2017-05-31</td>\n",
       "      <td>ARROCHAR</td>\n",
       "      <td>0</td>\n",
       "      <td>NaN</td>\n",
       "      <td>5.00</td>\n",
       "      <td>3108.00</td>\n",
       "      <td>381264.00</td>\n",
       "      <td>NaN</td>\n",
       "      <td>0</td>\n",
       "      <td>NaN</td>\n",
       "    </tr>\n",
       "    <tr>\n",
       "      <th>41555</th>\n",
       "      <td>R4</td>\n",
       "      <td>0</td>\n",
       "      <td>13 CONDOS - ELEVATOR APARTMENTS</td>\n",
       "      <td>R4</td>\n",
       "      <td>1254.00</td>\n",
       "      <td>1</td>\n",
       "      <td>2.00</td>\n",
       "      <td>13 EAST 11TH   STREET</td>\n",
       "      <td>2</td>\n",
       "      <td>10003.00</td>\n",
       "      <td>2016-10-28</td>\n",
       "      <td>GREENWICH VILLAGE-CENTRAL</td>\n",
       "      <td>1</td>\n",
       "      <td>NaN</td>\n",
       "      <td>1.00</td>\n",
       "      <td>569.00</td>\n",
       "      <td>NaN</td>\n",
       "      <td>4L</td>\n",
       "      <td>0</td>\n",
       "      <td>NaN</td>\n",
       "    </tr>\n",
       "    <tr>\n",
       "      <th>100893</th>\n",
       "      <td>R4</td>\n",
       "      <td>0</td>\n",
       "      <td>13 CONDOS - ELEVATOR APARTMENTS</td>\n",
       "      <td>R4</td>\n",
       "      <td>1253.00</td>\n",
       "      <td>1</td>\n",
       "      <td>2.00</td>\n",
       "      <td>205 WATER STREET</td>\n",
       "      <td>2</td>\n",
       "      <td>11201.00</td>\n",
       "      <td>2017-03-31</td>\n",
       "      <td>DOWNTOWN-FULTON FERRY</td>\n",
       "      <td>1</td>\n",
       "      <td>0.00</td>\n",
       "      <td>3.00</td>\n",
       "      <td>31.00</td>\n",
       "      <td>0.00</td>\n",
       "      <td>6F</td>\n",
       "      <td>2010</td>\n",
       "      <td>0.00</td>\n",
       "    </tr>\n",
       "  </tbody>\n",
       "</table>\n",
       "</div>"
      ],
      "text/plain": [
       "       BUILDING CLASS AT PRESENT  COMMERCIAL UNITS  \\\n",
       "98832                         A1                 0   \n",
       "16483                         C6                 0   \n",
       "107414                       NaN                 0   \n",
       "41555                         R4                 0   \n",
       "100893                        R4                 0   \n",
       "\n",
       "                            BUILDING CLASS CATEGORY  \\\n",
       "98832   01 ONE FAMILY DWELLINGS                       \n",
       "16483   09 COOPS - WALKUP APARTMENTS                  \n",
       "107414  01 ONE FAMILY DWELLINGS                       \n",
       "41555   13 CONDOS - ELEVATOR APARTMENTS               \n",
       "100893  13 CONDOS - ELEVATOR APARTMENTS               \n",
       "\n",
       "       BUILDING CLASS AT TIME OF SALE     LOT  TOTAL UNITS  \\\n",
       "98832                              A1   92.00            1   \n",
       "16483                              C6    1.00            0   \n",
       "107414                             A5    7.00            0   \n",
       "41555                              R4 1254.00            1   \n",
       "100893                             R4 1253.00            1   \n",
       "\n",
       "       TAX CLASS AT TIME OF SALE                   ADDRESS  \\\n",
       "98832                       1.00         9 FLORENCE STREET   \n",
       "16483                       2.00  196-43 DUNTON AVENUE, 2C   \n",
       "107414                      1.00             151 SAND LANE   \n",
       "41555                       2.00     13 EAST 11TH   STREET   \n",
       "100893                      2.00          205 WATER STREET   \n",
       "\n",
       "       TAX CLASS AT PRESENT ZIP CODE  SALE DATE               NEIGHBORHOOD  \\\n",
       "98832                     1 10308.00 2017-01-31                GREAT KILLS   \n",
       "16483                     2 11423.00 2017-03-02                 HOLLISWOOD   \n",
       "107414                  NaN 10305.00 2017-05-31                   ARROCHAR   \n",
       "41555                     2 10003.00 2016-10-28  GREENWICH VILLAGE-CENTRAL   \n",
       "100893                    2 11201.00 2017-03-31      DOWNTOWN-FULTON FERRY   \n",
       "\n",
       "        RESIDENTIAL UNITS  GROSS SQUARE FEET BOROUGH    BLOCK  SALE PRICE  \\\n",
       "98832                   1            1760.00    5.00  5156.00   635000.00   \n",
       "16483                   0                NaN    4.00 10524.00   215000.00   \n",
       "107414                  0                NaN    5.00  3108.00   381264.00   \n",
       "41555                   1                NaN    1.00   569.00         NaN   \n",
       "100893                  1               0.00    3.00    31.00        0.00   \n",
       "\n",
       "       APARTMENT NUMBER  YEAR BUILT  LAND SQUARE FEET  \n",
       "98832               NaN        1988           5037.00  \n",
       "16483               NaN        1950               NaN  \n",
       "107414              NaN           0               NaN  \n",
       "41555                4L           0               NaN  \n",
       "100893               6F        2010              0.00  "
      ]
     },
     "execution_count": 9,
     "metadata": {},
     "output_type": "execute_result"
    }
   ],
   "source": [
    "# sample of the dataframe\n",
    "nyc_houses_df.sample(5)"
   ]
  },
  {
   "cell_type": "code",
   "execution_count": 10,
   "metadata": {},
   "outputs": [
    {
     "data": {
      "text/plain": [
       "BUILDING CLASS AT PRESENT           1233\n",
       "COMMERCIAL UNITS                       2\n",
       "BUILDING CLASS CATEGORY                2\n",
       "BUILDING CLASS AT TIME OF SALE         2\n",
       "LOT                                    2\n",
       "TOTAL UNITS                            2\n",
       "TAX CLASS AT TIME OF SALE              2\n",
       "ADDRESS                                2\n",
       "TAX CLASS AT PRESENT                1233\n",
       "ZIP CODE                               2\n",
       "SALE DATE                              2\n",
       "NEIGHBORHOOD                           2\n",
       "RESIDENTIAL UNITS                      2\n",
       "GROSS SQUARE FEET                  44868\n",
       "BOROUGH                                2\n",
       "BLOCK                                  2\n",
       "SALE PRICE                         23668\n",
       "APARTMENT NUMBER                  106257\n",
       "YEAR BUILT                             2\n",
       "LAND SQUARE FEET                   42602\n",
       "dtype: int64"
      ]
     },
     "execution_count": 10,
     "metadata": {},
     "output_type": "execute_result"
    }
   ],
   "source": [
    "# Null Values\n",
    "nyc_houses_df.isnull().sum()"
   ]
  },
  {
   "cell_type": "code",
   "execution_count": 11,
   "metadata": {},
   "outputs": [
    {
     "data": {
      "text/plain": [
       "BUILDING CLASS AT PRESENT         0.90\n",
       "COMMERCIAL UNITS                  0.00\n",
       "BUILDING CLASS CATEGORY           0.00\n",
       "BUILDING CLASS AT TIME OF SALE    0.00\n",
       "LOT                               0.00\n",
       "TOTAL UNITS                       0.00\n",
       "TAX CLASS AT TIME OF SALE         0.00\n",
       "ADDRESS                           0.00\n",
       "TAX CLASS AT PRESENT              0.90\n",
       "ZIP CODE                          0.00\n",
       "SALE DATE                         0.00\n",
       "NEIGHBORHOOD                      0.00\n",
       "RESIDENTIAL UNITS                 0.00\n",
       "GROSS SQUARE FEET                32.68\n",
       "BOROUGH                           0.00\n",
       "BLOCK                             0.00\n",
       "SALE PRICE                       17.24\n",
       "APARTMENT NUMBER                 77.40\n",
       "YEAR BUILT                        0.00\n",
       "LAND SQUARE FEET                 31.03\n",
       "dtype: float64"
      ]
     },
     "execution_count": 11,
     "metadata": {},
     "output_type": "execute_result"
    }
   ],
   "source": [
    "null_percentage = (nyc_houses_df.isnull().sum() / len(nyc_houses_df)) * 100\n",
    "null_percentage"
   ]
  },
  {
   "cell_type": "markdown",
   "metadata": {},
   "source": [
    "***Target Variable =*** SALE PRICE"
   ]
  },
  {
   "cell_type": "markdown",
   "metadata": {},
   "source": [
    "***Numerical variables***"
   ]
  },
  {
   "cell_type": "code",
   "execution_count": 12,
   "metadata": {},
   "outputs": [
    {
     "data": {
      "text/html": [
       "<div>\n",
       "<style scoped>\n",
       "    .dataframe tbody tr th:only-of-type {\n",
       "        vertical-align: middle;\n",
       "    }\n",
       "\n",
       "    .dataframe tbody tr th {\n",
       "        vertical-align: top;\n",
       "    }\n",
       "\n",
       "    .dataframe thead th {\n",
       "        text-align: right;\n",
       "    }\n",
       "</style>\n",
       "<table border=\"1\" class=\"dataframe\">\n",
       "  <thead>\n",
       "    <tr style=\"text-align: right;\">\n",
       "      <th></th>\n",
       "      <th>COMMERCIAL UNITS</th>\n",
       "      <th>TOTAL UNITS</th>\n",
       "      <th>SALE DATE</th>\n",
       "      <th>RESIDENTIAL UNITS</th>\n",
       "      <th>GROSS SQUARE FEET</th>\n",
       "      <th>SALE PRICE</th>\n",
       "      <th>YEAR BUILT</th>\n",
       "      <th>LAND SQUARE FEET</th>\n",
       "    </tr>\n",
       "  </thead>\n",
       "  <tbody>\n",
       "    <tr>\n",
       "      <th>count</th>\n",
       "      <td>137274.00</td>\n",
       "      <td>137274.00</td>\n",
       "      <td>137274</td>\n",
       "      <td>137274.00</td>\n",
       "      <td>92408.00</td>\n",
       "      <td>113608.00</td>\n",
       "      <td>137274.00</td>\n",
       "      <td>94674.00</td>\n",
       "    </tr>\n",
       "    <tr>\n",
       "      <th>mean</th>\n",
       "      <td>0.19</td>\n",
       "      <td>2.14</td>\n",
       "      <td>2017-02-25 23:31:04.119935232</td>\n",
       "      <td>1.92</td>\n",
       "      <td>3802.32</td>\n",
       "      <td>1289728.29</td>\n",
       "      <td>1788.46</td>\n",
       "      <td>3804.91</td>\n",
       "    </tr>\n",
       "    <tr>\n",
       "      <th>min</th>\n",
       "      <td>0.00</td>\n",
       "      <td>0.00</td>\n",
       "      <td>2016-09-01 00:00:00</td>\n",
       "      <td>0.00</td>\n",
       "      <td>0.00</td>\n",
       "      <td>0.00</td>\n",
       "      <td>0.00</td>\n",
       "      <td>0.00</td>\n",
       "    </tr>\n",
       "    <tr>\n",
       "      <th>25%</th>\n",
       "      <td>0.00</td>\n",
       "      <td>1.00</td>\n",
       "      <td>2016-11-29 00:00:00</td>\n",
       "      <td>0.00</td>\n",
       "      <td>1040.00</td>\n",
       "      <td>226000.00</td>\n",
       "      <td>1920.00</td>\n",
       "      <td>1639.25</td>\n",
       "    </tr>\n",
       "    <tr>\n",
       "      <th>50%</th>\n",
       "      <td>0.00</td>\n",
       "      <td>1.00</td>\n",
       "      <td>2017-02-27 00:00:00</td>\n",
       "      <td>1.00</td>\n",
       "      <td>1680.00</td>\n",
       "      <td>530245.50</td>\n",
       "      <td>1940.00</td>\n",
       "      <td>2329.00</td>\n",
       "    </tr>\n",
       "    <tr>\n",
       "      <th>75%</th>\n",
       "      <td>0.00</td>\n",
       "      <td>2.00</td>\n",
       "      <td>2017-05-26 00:00:00</td>\n",
       "      <td>2.00</td>\n",
       "      <td>2558.00</td>\n",
       "      <td>950000.00</td>\n",
       "      <td>1965.00</td>\n",
       "      <td>3510.00</td>\n",
       "    </tr>\n",
       "    <tr>\n",
       "      <th>max</th>\n",
       "      <td>2261.00</td>\n",
       "      <td>2261.00</td>\n",
       "      <td>2017-08-31 00:00:00</td>\n",
       "      <td>894.00</td>\n",
       "      <td>1617206.00</td>\n",
       "      <td>2210000000.00</td>\n",
       "      <td>2017.00</td>\n",
       "      <td>4252327.00</td>\n",
       "    </tr>\n",
       "    <tr>\n",
       "      <th>std</th>\n",
       "      <td>9.36</td>\n",
       "      <td>15.35</td>\n",
       "      <td>NaN</td>\n",
       "      <td>12.10</td>\n",
       "      <td>24341.47</td>\n",
       "      <td>12376806.85</td>\n",
       "      <td>538.73</td>\n",
       "      <td>33942.29</td>\n",
       "    </tr>\n",
       "  </tbody>\n",
       "</table>\n",
       "</div>"
      ],
      "text/plain": [
       "       COMMERCIAL UNITS  TOTAL UNITS                      SALE DATE  \\\n",
       "count         137274.00    137274.00                         137274   \n",
       "mean               0.19         2.14  2017-02-25 23:31:04.119935232   \n",
       "min                0.00         0.00            2016-09-01 00:00:00   \n",
       "25%                0.00         1.00            2016-11-29 00:00:00   \n",
       "50%                0.00         1.00            2017-02-27 00:00:00   \n",
       "75%                0.00         2.00            2017-05-26 00:00:00   \n",
       "max             2261.00      2261.00            2017-08-31 00:00:00   \n",
       "std                9.36        15.35                            NaN   \n",
       "\n",
       "       RESIDENTIAL UNITS  GROSS SQUARE FEET    SALE PRICE  YEAR BUILT  \\\n",
       "count          137274.00           92408.00     113608.00   137274.00   \n",
       "mean                1.92            3802.32    1289728.29     1788.46   \n",
       "min                 0.00               0.00          0.00        0.00   \n",
       "25%                 0.00            1040.00     226000.00     1920.00   \n",
       "50%                 1.00            1680.00     530245.50     1940.00   \n",
       "75%                 2.00            2558.00     950000.00     1965.00   \n",
       "max               894.00         1617206.00 2210000000.00     2017.00   \n",
       "std                12.10           24341.47   12376806.85      538.73   \n",
       "\n",
       "       LAND SQUARE FEET  \n",
       "count          94674.00  \n",
       "mean            3804.91  \n",
       "min                0.00  \n",
       "25%             1639.25  \n",
       "50%             2329.00  \n",
       "75%             3510.00  \n",
       "max          4252327.00  \n",
       "std            33942.29  "
      ]
     },
     "execution_count": 12,
     "metadata": {},
     "output_type": "execute_result"
    }
   ],
   "source": [
    "nyc_houses_df.describe()"
   ]
  },
  {
   "cell_type": "markdown",
   "metadata": {},
   "source": [
    "***Categorical variables***"
   ]
  },
  {
   "cell_type": "code",
   "execution_count": 13,
   "metadata": {},
   "outputs": [
    {
     "data": {
      "text/html": [
       "<div>\n",
       "<style scoped>\n",
       "    .dataframe tbody tr th:only-of-type {\n",
       "        vertical-align: middle;\n",
       "    }\n",
       "\n",
       "    .dataframe tbody tr th {\n",
       "        vertical-align: top;\n",
       "    }\n",
       "\n",
       "    .dataframe thead th {\n",
       "        text-align: right;\n",
       "    }\n",
       "</style>\n",
       "<table border=\"1\" class=\"dataframe\">\n",
       "  <thead>\n",
       "    <tr style=\"text-align: right;\">\n",
       "      <th></th>\n",
       "      <th>BUILDING CLASS AT PRESENT</th>\n",
       "      <th>BUILDING CLASS CATEGORY</th>\n",
       "      <th>BUILDING CLASS AT TIME OF SALE</th>\n",
       "      <th>LOT</th>\n",
       "      <th>TAX CLASS AT TIME OF SALE</th>\n",
       "      <th>ADDRESS</th>\n",
       "      <th>TAX CLASS AT PRESENT</th>\n",
       "      <th>ZIP CODE</th>\n",
       "      <th>NEIGHBORHOOD</th>\n",
       "      <th>BOROUGH</th>\n",
       "      <th>BLOCK</th>\n",
       "      <th>APARTMENT NUMBER</th>\n",
       "    </tr>\n",
       "  </thead>\n",
       "  <tbody>\n",
       "    <tr>\n",
       "      <th>count</th>\n",
       "      <td>136043</td>\n",
       "      <td>137274</td>\n",
       "      <td>137274</td>\n",
       "      <td>137274.00</td>\n",
       "      <td>137274.00</td>\n",
       "      <td>137274</td>\n",
       "      <td>136043</td>\n",
       "      <td>137274.00</td>\n",
       "      <td>137274</td>\n",
       "      <td>137274.00</td>\n",
       "      <td>137274.00</td>\n",
       "      <td>31019</td>\n",
       "    </tr>\n",
       "    <tr>\n",
       "      <th>unique</th>\n",
       "      <td>163</td>\n",
       "      <td>47</td>\n",
       "      <td>164</td>\n",
       "      <td>2421.00</td>\n",
       "      <td>4.00</td>\n",
       "      <td>55001</td>\n",
       "      <td>10</td>\n",
       "      <td>185.00</td>\n",
       "      <td>253</td>\n",
       "      <td>5.00</td>\n",
       "      <td>11081.00</td>\n",
       "      <td>3486</td>\n",
       "    </tr>\n",
       "    <tr>\n",
       "      <th>top</th>\n",
       "      <td>D4</td>\n",
       "      <td>01 ONE FAMILY DWELLINGS</td>\n",
       "      <td>R4</td>\n",
       "      <td>1.00</td>\n",
       "      <td>1.00</td>\n",
       "      <td>131-05 40TH   ROAD</td>\n",
       "      <td>1</td>\n",
       "      <td>10314.00</td>\n",
       "      <td>FLUSHING-NORTH</td>\n",
       "      <td>4.00</td>\n",
       "      <td>5066.00</td>\n",
       "      <td>4</td>\n",
       "    </tr>\n",
       "    <tr>\n",
       "      <th>freq</th>\n",
       "      <td>20563</td>\n",
       "      <td>29626</td>\n",
       "      <td>21240</td>\n",
       "      <td>6584.00</td>\n",
       "      <td>67337.00</td>\n",
       "      <td>351</td>\n",
       "      <td>62634</td>\n",
       "      <td>2779.00</td>\n",
       "      <td>4982</td>\n",
       "      <td>43205.00</td>\n",
       "      <td>648.00</td>\n",
       "      <td>485</td>\n",
       "    </tr>\n",
       "  </tbody>\n",
       "</table>\n",
       "</div>"
      ],
      "text/plain": [
       "       BUILDING CLASS AT PRESENT                      BUILDING CLASS CATEGORY  \\\n",
       "count                     136043                                       137274   \n",
       "unique                       163                                           47   \n",
       "top                           D4  01 ONE FAMILY DWELLINGS                       \n",
       "freq                       20563                                        29626   \n",
       "\n",
       "       BUILDING CLASS AT TIME OF SALE       LOT  TAX CLASS AT TIME OF SALE  \\\n",
       "count                          137274 137274.00                  137274.00   \n",
       "unique                            164   2421.00                       4.00   \n",
       "top                                R4      1.00                       1.00   \n",
       "freq                            21240   6584.00                   67337.00   \n",
       "\n",
       "                   ADDRESS TAX CLASS AT PRESENT  ZIP CODE    NEIGHBORHOOD  \\\n",
       "count               137274               136043 137274.00          137274   \n",
       "unique               55001                   10    185.00             253   \n",
       "top     131-05 40TH   ROAD                    1  10314.00  FLUSHING-NORTH   \n",
       "freq                   351                62634   2779.00            4982   \n",
       "\n",
       "         BOROUGH     BLOCK APARTMENT NUMBER  \n",
       "count  137274.00 137274.00            31019  \n",
       "unique      5.00  11081.00             3486  \n",
       "top         4.00   5066.00                4  \n",
       "freq    43205.00    648.00              485  "
      ]
     },
     "execution_count": 13,
     "metadata": {},
     "output_type": "execute_result"
    }
   ],
   "source": [
    "# categorical columns description\n",
    "nyc_houses_df.describe(include=\"category\")"
   ]
  },
  {
   "cell_type": "markdown",
   "metadata": {},
   "source": [
    "# 📈 ***Univariate Analysis***"
   ]
  },
  {
   "cell_type": "markdown",
   "metadata": {},
   "source": [
    "#### ***Target Variable***"
   ]
  },
  {
   "cell_type": "code",
   "execution_count": 22,
   "metadata": {},
   "outputs": [
    {
     "name": "stdout",
     "output_type": "stream",
     "text": [
      "count       113608.00\n",
      "mean       1289728.29\n",
      "std       12376806.85\n",
      "min              0.00\n",
      "25%         226000.00\n",
      "50%         530245.50\n",
      "75%         950000.00\n",
      "max     2210000000.00\n",
      "Name: SALE PRICE, dtype: float64\n"
     ]
    }
   ],
   "source": [
    "print(nyc_houses_df['SALE PRICE'].describe())"
   ]
  },
  {
   "cell_type": "code",
   "execution_count": 28,
   "metadata": {},
   "outputs": [
    {
     "data": {
      "text/plain": [
       "<Axes: >"
      ]
     },
     "execution_count": 28,
     "metadata": {},
     "output_type": "execute_result"
    },
    {
     "data": {
      "image/png": "[encoded data removed]",
      "text/plain": [
       "<Figure size 640x480 with 1 Axes>"
      ]
     },
     "metadata": {},
     "output_type": "display_data"
    }
   ],
   "source": [
    "nyc_houses_df['SALE PRICE'].plot()"
   ]
  },
  {
   "cell_type": "code",
   "execution_count": null,
   "metadata": {},
   "outputs": [],
   "source": []
  }
 ],
 "metadata": {
  "kernelspec": {
   "display_name": "Python 3",
   "language": "python",
   "name": "python3"
  },
  "language_info": {
   "codemirror_mode": {
    "name": "ipython",
    "version": 3
   },
   "file_extension": ".py",
   "mimetype": "text/x-python",
   "name": "python",
   "nbconvert_exporter": "python",
   "pygments_lexer": "ipython3",
   "version": "3.12.1"
  }
 },
 "nbformat": 4,
 "nbformat_minor": 2
}
