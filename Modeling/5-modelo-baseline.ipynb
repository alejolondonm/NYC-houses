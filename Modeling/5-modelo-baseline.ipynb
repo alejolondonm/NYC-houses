{
 "cells": [
  {
   "cell_type": "markdown",
   "metadata": {},
   "source": [
    "# ***Machine Learning Base Model***"
   ]
  },
  {
   "cell_type": "markdown",
   "metadata": {},
   "source": [
    "## 📚 ***Import libraries***"
   ]
  },
  {
   "cell_type": "code",
   "execution_count": 1,
   "metadata": {},
   "outputs": [],
   "source": [
    "# base libraries for data science\n",
    "from pathlib import Path\n",
    "\n",
    "import matplotlib.pyplot as plt\n",
    "import numpy as np\n",
    "import pandas as pd\n",
    "from sklearn.base import BaseEstimator, RegressorMixin\n",
    "from sklearn.compose import ColumnTransformer\n",
    "from sklearn.preprocessing import FunctionTransformer\n",
    "from sklearn.impute import SimpleImputer\n",
    "from sklearn.preprocessing import StandardScaler, OneHotEncoder\n",
    "from sklearn.metrics import mean_absolute_error, mean_squared_error, r2_score\n",
    "from sklearn.model_selection import (\n",
    "    KFold,\n",
    "    ShuffleSplit,\n",
    "    cross_val_score,\n",
    "    learning_curve,\n",
    "    train_test_split,\n",
    ")\n",
    "from sklearn.pipeline import Pipeline"
   ]
  },
  {
   "cell_type": "markdown",
   "metadata": {},
   "source": [
    "## 💾 ***Load data***"
   ]
  },
  {
   "cell_type": "code",
   "execution_count": 2,
   "metadata": {},
   "outputs": [],
   "source": [
    "DATA_DIR = Path.cwd().resolve().parents[1] / \"data\"\n",
    "\n",
    "nyc_houses_df = pd.read_parquet(\n",
    "    DATA_DIR / \"02_intermediate/nyc_houses_semi_cleaned.parquet\", engine=\"pyarrow\"\n",
    ")"
   ]
  },
  {
   "cell_type": "code",
   "execution_count": 3,
   "metadata": {},
   "outputs": [
    {
     "name": "stdout",
     "output_type": "stream",
     "text": [
      "<class 'pandas.core.frame.DataFrame'>\n",
      "RangeIndex: 29179 entries, 0 to 29178\n",
      "Data columns (total 8 columns):\n",
      " #   Column                     Non-Null Count  Dtype  \n",
      "---  ------                     --------------  -----  \n",
      " 0   COMMERCIAL UNITS           29178 non-null  Int64  \n",
      " 1   TAX CLASS AT TIME OF SALE  29179 non-null  float64\n",
      " 2   RESIDENTIAL UNITS          29179 non-null  Int64  \n",
      " 3   GROSS SQUARE FEET          22359 non-null  float64\n",
      " 4   BOROUGH                    29179 non-null  float64\n",
      " 5   SALE PRICE                 29179 non-null  float64\n",
      " 6   YEAR BUILT                 27797 non-null  float64\n",
      " 7   LAND SQUARE FEET           22700 non-null  float64\n",
      "dtypes: Int64(2), float64(6)\n",
      "memory usage: 1.8 MB\n"
     ]
    }
   ],
   "source": [
    "nyc_houses_df.info()"
   ]
  },
  {
   "cell_type": "code",
   "execution_count": 4,
   "metadata": {},
   "outputs": [
    {
     "name": "stdout",
     "output_type": "stream",
     "text": [
      "Pandas version:  2.2.3\n"
     ]
    }
   ],
   "source": [
    "# print library version for reproducibility\n",
    "\n",
    "print(\"Pandas version: \", pd.__version__)"
   ]
  },
  {
   "cell_type": "markdown",
   "metadata": {},
   "source": [
    "## 👷 ***Data preparation***"
   ]
  },
  {
   "cell_type": "markdown",
   "metadata": {},
   "source": [
    "***Adaptation of heuristics, after Feature Engineering:*** we eliminated neighborhood as it was not in the dataset, kept total_units as the sum of COMMERCIAL UNITS and RESIDENTIAL UNITS, and adjusted the heuristic to use only the available columns."
   ]
  },
  {
   "cell_type": "code",
   "execution_count": 5,
   "metadata": {},
   "outputs": [],
   "source": [
    "def estimate_sale_price(df, borough, gross_sqft, total_units, land_sqft) -> float:\n",
    "    \"\"\"Estimate the sale price of a property using data-driven heuristics.\n",
    "\n",
    "    Args:\n",
    "        df (pd.DataFrame): DataFrame containing real estate transaction data.\n",
    "        borough (int): Borough ID (1=Manhattan, 2=Bronx, 3=Brooklyn, 4=Queens, 5=Staten Island).\n",
    "        gross_sqft (float): Gross square footage of the property.\n",
    "        total_units (int): Total number of units in the building.\n",
    "        land_sqft (float): Total land square footage.\n",
    "\n",
    "    Returns:\n",
    "        float: Estimated sale price based on heuristic rules.\n",
    "    \"\"\"\n",
    "\n",
    "    # Ensure that price and area data are valid\n",
    "    valid_data = df[(df[\"GROSS SQUARE FEET\"] > 0) & (df[\"SALE PRICE\"] > 0)].copy()\n",
    "\n",
    "    if valid_data.empty:\n",
    "        raise ValueError(\"No valid property data found. Check input values.\")\n",
    "\n",
    "    # Calculate price per square foot (capped at $1000/sqft to avoid extreme values)\n",
    "    price_per_sqft = (valid_data[\"SALE PRICE\"] / valid_data[\"GROSS SQUARE FEET\"]).median()\n",
    "    price_per_sqft = min(price_per_sqft, 1000)\n",
    "\n",
    "    base_price = gross_sqft * price_per_sqft\n",
    "\n",
    "    # Borough adjustment based on observed median prices\n",
    "    borough_medians = valid_data.groupby(\"BOROUGH\")[\"SALE PRICE\"].median().to_dict()\n",
    "    borough_median_price = borough_medians.get(borough, valid_data[\"SALE PRICE\"].median())\n",
    "    borough_adjustment = borough_median_price / valid_data[\"SALE PRICE\"].median()\n",
    "\n",
    "    adjusted_price = base_price * borough_adjustment\n",
    "\n",
    "    # Adjustment based on the total number of units (affects up to 10 units, then stabilizes)\n",
    "    unit_adjustment = 1 + (min(total_units, 10) / 50)\n",
    "    adjusted_price *= unit_adjustment\n",
    "\n",
    "    # Adjustment based on land area (capped at 10,000 sqft)\n",
    "    land_adjustment = min(land_sqft, 10000) * 1\n",
    "    final_price = adjusted_price + land_adjustment\n",
    "\n",
    "    # Ensure a minimum price of $50,000\n",
    "    return max(final_price, 50000)"
   ]
  },
  {
   "cell_type": "markdown",
   "metadata": {},
   "source": [
    "Base on the rules above, for the heuristic model only 5 columns are needed: \"BOROUGH\", \"GROSS SQUARE FEET\", \"RESIDENTIAL UNITS\", \"COMMERCIAL UNITS\" and \"LAND SQUARE FEET\"."
   ]
  },
  {
   "cell_type": "code",
   "execution_count": 6,
   "metadata": {},
   "outputs": [
    {
     "name": "stdout",
     "output_type": "stream",
     "text": [
      "<class 'pandas.core.frame.DataFrame'>\n",
      "RangeIndex: 29179 entries, 0 to 29178\n",
      "Data columns (total 6 columns):\n",
      " #   Column             Non-Null Count  Dtype  \n",
      "---  ------             --------------  -----  \n",
      " 0   BOROUGH            29179 non-null  float64\n",
      " 1   GROSS SQUARE FEET  22359 non-null  float64\n",
      " 2   RESIDENTIAL UNITS  29179 non-null  Int64  \n",
      " 3   COMMERCIAL UNITS   29178 non-null  Int64  \n",
      " 4   LAND SQUARE FEET   22700 non-null  float64\n",
      " 5   SALE PRICE         29179 non-null  float64\n",
      "dtypes: Int64(2), float64(4)\n",
      "memory usage: 1.4 MB\n"
     ]
    }
   ],
   "source": [
    "selected_features = [\"BOROUGH\", \"GROSS SQUARE FEET\", \"RESIDENTIAL UNITS\", \"COMMERCIAL UNITS\", \"LAND SQUARE FEET\", \"SALE PRICE\"]\n",
    "nyc_houses_features = nyc_houses_df[selected_features]\n",
    "nyc_houses_features.info()"
   ]
  },
  {
   "cell_type": "code",
   "execution_count": 7,
   "metadata": {},
   "outputs": [
    {
     "name": "stderr",
     "output_type": "stream",
     "text": [
      "C:\\Users\\SOULG\\AppData\\Local\\Temp\\ipykernel_20512\\2831245920.py:1: SettingWithCopyWarning: \n",
      "A value is trying to be set on a copy of a slice from a DataFrame.\n",
      "Try using .loc[row_indexer,col_indexer] = value instead\n",
      "\n",
      "See the caveats in the documentation: https://pandas.pydata.org/pandas-docs/stable/user_guide/indexing.html#returning-a-view-versus-a-copy\n",
      "  nyc_houses_features[\"BOROUGH\"] = nyc_houses_features[\"BOROUGH\"].astype('category')\n"
     ]
    }
   ],
   "source": [
    "nyc_houses_features[\"BOROUGH\"] = nyc_houses_features[\"BOROUGH\"].astype('category')"
   ]
  },
  {
   "cell_type": "code",
   "execution_count": 8,
   "metadata": {},
   "outputs": [
    {
     "name": "stdout",
     "output_type": "stream",
     "text": [
      "<class 'pandas.core.frame.DataFrame'>\n",
      "RangeIndex: 29179 entries, 0 to 29178\n",
      "Data columns (total 6 columns):\n",
      " #   Column             Non-Null Count  Dtype   \n",
      "---  ------             --------------  -----   \n",
      " 0   BOROUGH            29179 non-null  category\n",
      " 1   GROSS SQUARE FEET  22359 non-null  float64 \n",
      " 2   RESIDENTIAL UNITS  29179 non-null  Int64   \n",
      " 3   COMMERCIAL UNITS   29178 non-null  Int64   \n",
      " 4   LAND SQUARE FEET   22700 non-null  float64 \n",
      " 5   SALE PRICE         29179 non-null  float64 \n",
      "dtypes: Int64(2), category(1), float64(3)\n",
      "memory usage: 1.2 MB\n"
     ]
    }
   ],
   "source": [
    "nyc_houses_features.info()"
   ]
  },
  {
   "cell_type": "code",
   "execution_count": 9,
   "metadata": {},
   "outputs": [
    {
     "data": {
      "text/plain": [
       "BOROUGH                 0\n",
       "GROSS SQUARE FEET    6820\n",
       "RESIDENTIAL UNITS       0\n",
       "COMMERCIAL UNITS        1\n",
       "LAND SQUARE FEET     6479\n",
       "SALE PRICE              0\n",
       "dtype: int64"
      ]
     },
     "execution_count": 9,
     "metadata": {},
     "output_type": "execute_result"
    }
   ],
   "source": [
    "nyc_houses_features.isna().sum()"
   ]
  },
  {
   "cell_type": "code",
   "execution_count": 10,
   "metadata": {},
   "outputs": [
    {
     "data": {
      "text/plain": [
       "25494"
      ]
     },
     "execution_count": 10,
     "metadata": {},
     "output_type": "execute_result"
    }
   ],
   "source": [
    "len(nyc_houses_features.drop_duplicates())"
   ]
  },
  {
   "cell_type": "markdown",
   "metadata": {},
   "source": [
    "Dropping duplicates in the dataset is important to avoid bias and data leakage when training a machine learning model. However, for a heuristic model, duplicates do not impact performance. Since the dataset has been reduced to key columns, there may be more duplicates, but they will not be removed to maintain consistency and allow comparisons with machine learning models that use more variables."
   ]
  },
  {
   "cell_type": "code",
   "execution_count": 11,
   "metadata": {},
   "outputs": [
    {
     "name": "stdout",
     "output_type": "stream",
     "text": [
      "<class 'pandas.core.frame.DataFrame'>\n",
      "RangeIndex: 29179 entries, 0 to 29178\n",
      "Data columns (total 6 columns):\n",
      " #   Column             Non-Null Count  Dtype   \n",
      "---  ------             --------------  -----   \n",
      " 0   BOROUGH            29179 non-null  category\n",
      " 1   GROSS SQUARE FEET  22359 non-null  float64 \n",
      " 2   RESIDENTIAL UNITS  29179 non-null  Int64   \n",
      " 3   COMMERCIAL UNITS   29178 non-null  Int64   \n",
      " 4   LAND SQUARE FEET   22700 non-null  float64 \n",
      " 5   SALE PRICE         29179 non-null  float64 \n",
      "dtypes: Int64(2), category(1), float64(3)\n",
      "memory usage: 1.2 MB\n"
     ]
    }
   ],
   "source": [
    "nyc_houses_features.info()"
   ]
  },
  {
   "cell_type": "code",
   "execution_count": 12,
   "metadata": {},
   "outputs": [
    {
     "data": {
      "text/html": [
       "<div>\n",
       "<style scoped>\n",
       "    .dataframe tbody tr th:only-of-type {\n",
       "        vertical-align: middle;\n",
       "    }\n",
       "\n",
       "    .dataframe tbody tr th {\n",
       "        vertical-align: top;\n",
       "    }\n",
       "\n",
       "    .dataframe thead th {\n",
       "        text-align: right;\n",
       "    }\n",
       "</style>\n",
       "<table border=\"1\" class=\"dataframe\">\n",
       "  <thead>\n",
       "    <tr style=\"text-align: right;\">\n",
       "      <th></th>\n",
       "      <th>BOROUGH</th>\n",
       "      <th>GROSS SQUARE FEET</th>\n",
       "      <th>RESIDENTIAL UNITS</th>\n",
       "      <th>COMMERCIAL UNITS</th>\n",
       "      <th>LAND SQUARE FEET</th>\n",
       "      <th>SALE PRICE</th>\n",
       "    </tr>\n",
       "  </thead>\n",
       "  <tbody>\n",
       "    <tr>\n",
       "      <th>8978</th>\n",
       "      <td>3.0</td>\n",
       "      <td>1300.0</td>\n",
       "      <td>1</td>\n",
       "      <td>0</td>\n",
       "      <td>2000.0</td>\n",
       "      <td>450000.0</td>\n",
       "    </tr>\n",
       "    <tr>\n",
       "      <th>24392</th>\n",
       "      <td>3.0</td>\n",
       "      <td>2698.0</td>\n",
       "      <td>2</td>\n",
       "      <td>0</td>\n",
       "      <td>2051.0</td>\n",
       "      <td>1230000.0</td>\n",
       "    </tr>\n",
       "    <tr>\n",
       "      <th>20217</th>\n",
       "      <td>4.0</td>\n",
       "      <td>1040.0</td>\n",
       "      <td>1</td>\n",
       "      <td>0</td>\n",
       "      <td>5000.0</td>\n",
       "      <td>850000.0</td>\n",
       "    </tr>\n",
       "    <tr>\n",
       "      <th>11617</th>\n",
       "      <td>5.0</td>\n",
       "      <td>2910.0</td>\n",
       "      <td>2</td>\n",
       "      <td>0</td>\n",
       "      <td>3840.0</td>\n",
       "      <td>520000.0</td>\n",
       "    </tr>\n",
       "    <tr>\n",
       "      <th>27930</th>\n",
       "      <td>4.0</td>\n",
       "      <td>4000.0</td>\n",
       "      <td>0</td>\n",
       "      <td>1</td>\n",
       "      <td>4000.0</td>\n",
       "      <td>2925000.0</td>\n",
       "    </tr>\n",
       "  </tbody>\n",
       "</table>\n",
       "</div>"
      ],
      "text/plain": [
       "      BOROUGH  GROSS SQUARE FEET  RESIDENTIAL UNITS  COMMERCIAL UNITS  \\\n",
       "8978      3.0             1300.0                  1                 0   \n",
       "24392     3.0             2698.0                  2                 0   \n",
       "20217     4.0             1040.0                  1                 0   \n",
       "11617     5.0             2910.0                  2                 0   \n",
       "27930     4.0             4000.0                  0                 1   \n",
       "\n",
       "       LAND SQUARE FEET  SALE PRICE  \n",
       "8978             2000.0    450000.0  \n",
       "24392            2051.0   1230000.0  \n",
       "20217            5000.0    850000.0  \n",
       "11617            3840.0    520000.0  \n",
       "27930            4000.0   2925000.0  "
      ]
     },
     "execution_count": 12,
     "metadata": {},
     "output_type": "execute_result"
    }
   ],
   "source": [
    "nyc_houses_features.sample(5, random_state=42)"
   ]
  },
  {
   "cell_type": "markdown",
   "metadata": {},
   "source": [
    "GROSS SQUARE FEET, COMMERCIAL UNITS, LAND SQUARE FEET column needs imputation, for this model, we will use the median value. but categorical columns don’t need nothing for this heuristic model."
   ]
  },
  {
   "cell_type": "code",
   "execution_count": 13,
   "metadata": {},
   "outputs": [],
   "source": [
    "numeric_features = [\"GROSS SQUARE FEET\", \"LAND SQUARE FEET\", \"COMMERCIAL UNITS\", \"RESIDENTIAL UNITS\"]\n",
    "categorical_features = [\"BOROUGH\"]"
   ]
  },
  {
   "cell_type": "code",
   "execution_count": 14,
   "metadata": {},
   "outputs": [],
   "source": [
    "# Function to restore feature names after ColumnTransformer processing\n",
    "def restore_feature_names(X):\n",
    "    return pd.DataFrame(X, columns=numeric_features + categorical_features)"
   ]
  },
  {
   "cell_type": "code",
   "execution_count": 15,
   "metadata": {},
   "outputs": [],
   "source": [
    "numeric_pipe = Pipeline(\n",
    "    steps=[\n",
    "        (\"imputer\", SimpleImputer(strategy=\"median\")),\n",
    "        (\"scaler\", StandardScaler())\n",
    "    ]\n",
    ")\n",
    "\n",
    "preprocessor = ColumnTransformer(\n",
    "    transformers=[\n",
    "        (\"categoric\", \"passthrough\", categorical_features),\n",
    "        (\"numeric\", numeric_pipe, numeric_features),\n",
    "    ],\n",
    "    remainder=\"passthrough\"  # Ensure no columns are dropped\n",
    ")"
   ]
  },
  {
   "cell_type": "code",
   "execution_count": 16,
   "metadata": {},
   "outputs": [
    {
     "data": {
      "text/html": [
       "<style>#sk-container-id-1 {\n",
       "  /* Definition of color scheme common for light and dark mode */\n",
       "  --sklearn-color-text: #000;\n",
       "  --sklearn-color-text-muted: #666;\n",
       "  --sklearn-color-line: gray;\n",
       "  /* Definition of color scheme for unfitted estimators */\n",
       "  --sklearn-color-unfitted-level-0: #fff5e6;\n",
       "  --sklearn-color-unfitted-level-1: #f6e4d2;\n",
       "  --sklearn-color-unfitted-level-2: #ffe0b3;\n",
       "  --sklearn-color-unfitted-level-3: chocolate;\n",
       "  /* Definition of color scheme for fitted estimators */\n",
       "  --sklearn-color-fitted-level-0: #f0f8ff;\n",
       "  --sklearn-color-fitted-level-1: #d4ebff;\n",
       "  --sklearn-color-fitted-level-2: #b3dbfd;\n",
       "  --sklearn-color-fitted-level-3: cornflowerblue;\n",
       "\n",
       "  /* Specific color for light theme */\n",
       "  --sklearn-color-text-on-default-background: var(--sg-text-color, var(--theme-code-foreground, var(--jp-content-font-color1, black)));\n",
       "  --sklearn-color-background: var(--sg-background-color, var(--theme-background, var(--jp-layout-color0, white)));\n",
       "  --sklearn-color-border-box: var(--sg-text-color, var(--theme-code-foreground, var(--jp-content-font-color1, black)));\n",
       "  --sklearn-color-icon: #696969;\n",
       "\n",
       "  @media (prefers-color-scheme: dark) {\n",
       "    /* Redefinition of color scheme for dark theme */\n",
       "    --sklearn-color-text-on-default-background: var(--sg-text-color, var(--theme-code-foreground, var(--jp-content-font-color1, white)));\n",
       "    --sklearn-color-background: var(--sg-background-color, var(--theme-background, var(--jp-layout-color0, #111)));\n",
       "    --sklearn-color-border-box: var(--sg-text-color, var(--theme-code-foreground, var(--jp-content-font-color1, white)));\n",
       "    --sklearn-color-icon: #878787;\n",
       "  }\n",
       "}\n",
       "\n",
       "#sk-container-id-1 {\n",
       "  color: var(--sklearn-color-text);\n",
       "}\n",
       "\n",
       "#sk-container-id-1 pre {\n",
       "  padding: 0;\n",
       "}\n",
       "\n",
       "#sk-container-id-1 input.sk-hidden--visually {\n",
       "  border: 0;\n",
       "  clip: rect(1px 1px 1px 1px);\n",
       "  clip: rect(1px, 1px, 1px, 1px);\n",
       "  height: 1px;\n",
       "  margin: -1px;\n",
       "  overflow: hidden;\n",
       "  padding: 0;\n",
       "  position: absolute;\n",
       "  width: 1px;\n",
       "}\n",
       "\n",
       "#sk-container-id-1 div.sk-dashed-wrapped {\n",
       "  border: 1px dashed var(--sklearn-color-line);\n",
       "  margin: 0 0.4em 0.5em 0.4em;\n",
       "  box-sizing: border-box;\n",
       "  padding-bottom: 0.4em;\n",
       "  background-color: var(--sklearn-color-background);\n",
       "}\n",
       "\n",
       "#sk-container-id-1 div.sk-container {\n",
       "  /* jupyter's `normalize.less` sets `[hidden] { display: none; }`\n",
       "     but bootstrap.min.css set `[hidden] { display: none !important; }`\n",
       "     so we also need the `!important` here to be able to override the\n",
       "     default hidden behavior on the sphinx rendered scikit-learn.org.\n",
       "     See: https://github.com/scikit-learn/scikit-learn/issues/21755 */\n",
       "  display: inline-block !important;\n",
       "  position: relative;\n",
       "}\n",
       "\n",
       "#sk-container-id-1 div.sk-text-repr-fallback {\n",
       "  display: none;\n",
       "}\n",
       "\n",
       "div.sk-parallel-item,\n",
       "div.sk-serial,\n",
       "div.sk-item {\n",
       "  /* draw centered vertical line to link estimators */\n",
       "  background-image: linear-gradient(var(--sklearn-color-text-on-default-background), var(--sklearn-color-text-on-default-background));\n",
       "  background-size: 2px 100%;\n",
       "  background-repeat: no-repeat;\n",
       "  background-position: center center;\n",
       "}\n",
       "\n",
       "/* Parallel-specific style estimator block */\n",
       "\n",
       "#sk-container-id-1 div.sk-parallel-item::after {\n",
       "  content: \"\";\n",
       "  width: 100%;\n",
       "  border-bottom: 2px solid var(--sklearn-color-text-on-default-background);\n",
       "  flex-grow: 1;\n",
       "}\n",
       "\n",
       "#sk-container-id-1 div.sk-parallel {\n",
       "  display: flex;\n",
       "  align-items: stretch;\n",
       "  justify-content: center;\n",
       "  background-color: var(--sklearn-color-background);\n",
       "  position: relative;\n",
       "}\n",
       "\n",
       "#sk-container-id-1 div.sk-parallel-item {\n",
       "  display: flex;\n",
       "  flex-direction: column;\n",
       "}\n",
       "\n",
       "#sk-container-id-1 div.sk-parallel-item:first-child::after {\n",
       "  align-self: flex-end;\n",
       "  width: 50%;\n",
       "}\n",
       "\n",
       "#sk-container-id-1 div.sk-parallel-item:last-child::after {\n",
       "  align-self: flex-start;\n",
       "  width: 50%;\n",
       "}\n",
       "\n",
       "#sk-container-id-1 div.sk-parallel-item:only-child::after {\n",
       "  width: 0;\n",
       "}\n",
       "\n",
       "/* Serial-specific style estimator block */\n",
       "\n",
       "#sk-container-id-1 div.sk-serial {\n",
       "  display: flex;\n",
       "  flex-direction: column;\n",
       "  align-items: center;\n",
       "  background-color: var(--sklearn-color-background);\n",
       "  padding-right: 1em;\n",
       "  padding-left: 1em;\n",
       "}\n",
       "\n",
       "\n",
       "/* Toggleable style: style used for estimator/Pipeline/ColumnTransformer box that is\n",
       "clickable and can be expanded/collapsed.\n",
       "- Pipeline and ColumnTransformer use this feature and define the default style\n",
       "- Estimators will overwrite some part of the style using the `sk-estimator` class\n",
       "*/\n",
       "\n",
       "/* Pipeline and ColumnTransformer style (default) */\n",
       "\n",
       "#sk-container-id-1 div.sk-toggleable {\n",
       "  /* Default theme specific background. It is overwritten whether we have a\n",
       "  specific estimator or a Pipeline/ColumnTransformer */\n",
       "  background-color: var(--sklearn-color-background);\n",
       "}\n",
       "\n",
       "/* Toggleable label */\n",
       "#sk-container-id-1 label.sk-toggleable__label {\n",
       "  cursor: pointer;\n",
       "  display: flex;\n",
       "  width: 100%;\n",
       "  margin-bottom: 0;\n",
       "  padding: 0.5em;\n",
       "  box-sizing: border-box;\n",
       "  text-align: center;\n",
       "  align-items: start;\n",
       "  justify-content: space-between;\n",
       "  gap: 0.5em;\n",
       "}\n",
       "\n",
       "#sk-container-id-1 label.sk-toggleable__label .caption {\n",
       "  font-size: 0.6rem;\n",
       "  font-weight: lighter;\n",
       "  color: var(--sklearn-color-text-muted);\n",
       "}\n",
       "\n",
       "#sk-container-id-1 label.sk-toggleable__label-arrow:before {\n",
       "  /* Arrow on the left of the label */\n",
       "  content: \"▸\";\n",
       "  float: left;\n",
       "  margin-right: 0.25em;\n",
       "  color: var(--sklearn-color-icon);\n",
       "}\n",
       "\n",
       "#sk-container-id-1 label.sk-toggleable__label-arrow:hover:before {\n",
       "  color: var(--sklearn-color-text);\n",
       "}\n",
       "\n",
       "/* Toggleable content - dropdown */\n",
       "\n",
       "#sk-container-id-1 div.sk-toggleable__content {\n",
       "  max-height: 0;\n",
       "  max-width: 0;\n",
       "  overflow: hidden;\n",
       "  text-align: left;\n",
       "  /* unfitted */\n",
       "  background-color: var(--sklearn-color-unfitted-level-0);\n",
       "}\n",
       "\n",
       "#sk-container-id-1 div.sk-toggleable__content.fitted {\n",
       "  /* fitted */\n",
       "  background-color: var(--sklearn-color-fitted-level-0);\n",
       "}\n",
       "\n",
       "#sk-container-id-1 div.sk-toggleable__content pre {\n",
       "  margin: 0.2em;\n",
       "  border-radius: 0.25em;\n",
       "  color: var(--sklearn-color-text);\n",
       "  /* unfitted */\n",
       "  background-color: var(--sklearn-color-unfitted-level-0);\n",
       "}\n",
       "\n",
       "#sk-container-id-1 div.sk-toggleable__content.fitted pre {\n",
       "  /* unfitted */\n",
       "  background-color: var(--sklearn-color-fitted-level-0);\n",
       "}\n",
       "\n",
       "#sk-container-id-1 input.sk-toggleable__control:checked~div.sk-toggleable__content {\n",
       "  /* Expand drop-down */\n",
       "  max-height: 200px;\n",
       "  max-width: 100%;\n",
       "  overflow: auto;\n",
       "}\n",
       "\n",
       "#sk-container-id-1 input.sk-toggleable__control:checked~label.sk-toggleable__label-arrow:before {\n",
       "  content: \"▾\";\n",
       "}\n",
       "\n",
       "/* Pipeline/ColumnTransformer-specific style */\n",
       "\n",
       "#sk-container-id-1 div.sk-label input.sk-toggleable__control:checked~label.sk-toggleable__label {\n",
       "  color: var(--sklearn-color-text);\n",
       "  background-color: var(--sklearn-color-unfitted-level-2);\n",
       "}\n",
       "\n",
       "#sk-container-id-1 div.sk-label.fitted input.sk-toggleable__control:checked~label.sk-toggleable__label {\n",
       "  background-color: var(--sklearn-color-fitted-level-2);\n",
       "}\n",
       "\n",
       "/* Estimator-specific style */\n",
       "\n",
       "/* Colorize estimator box */\n",
       "#sk-container-id-1 div.sk-estimator input.sk-toggleable__control:checked~label.sk-toggleable__label {\n",
       "  /* unfitted */\n",
       "  background-color: var(--sklearn-color-unfitted-level-2);\n",
       "}\n",
       "\n",
       "#sk-container-id-1 div.sk-estimator.fitted input.sk-toggleable__control:checked~label.sk-toggleable__label {\n",
       "  /* fitted */\n",
       "  background-color: var(--sklearn-color-fitted-level-2);\n",
       "}\n",
       "\n",
       "#sk-container-id-1 div.sk-label label.sk-toggleable__label,\n",
       "#sk-container-id-1 div.sk-label label {\n",
       "  /* The background is the default theme color */\n",
       "  color: var(--sklearn-color-text-on-default-background);\n",
       "}\n",
       "\n",
       "/* On hover, darken the color of the background */\n",
       "#sk-container-id-1 div.sk-label:hover label.sk-toggleable__label {\n",
       "  color: var(--sklearn-color-text);\n",
       "  background-color: var(--sklearn-color-unfitted-level-2);\n",
       "}\n",
       "\n",
       "/* Label box, darken color on hover, fitted */\n",
       "#sk-container-id-1 div.sk-label.fitted:hover label.sk-toggleable__label.fitted {\n",
       "  color: var(--sklearn-color-text);\n",
       "  background-color: var(--sklearn-color-fitted-level-2);\n",
       "}\n",
       "\n",
       "/* Estimator label */\n",
       "\n",
       "#sk-container-id-1 div.sk-label label {\n",
       "  font-family: monospace;\n",
       "  font-weight: bold;\n",
       "  display: inline-block;\n",
       "  line-height: 1.2em;\n",
       "}\n",
       "\n",
       "#sk-container-id-1 div.sk-label-container {\n",
       "  text-align: center;\n",
       "}\n",
       "\n",
       "/* Estimator-specific */\n",
       "#sk-container-id-1 div.sk-estimator {\n",
       "  font-family: monospace;\n",
       "  border: 1px dotted var(--sklearn-color-border-box);\n",
       "  border-radius: 0.25em;\n",
       "  box-sizing: border-box;\n",
       "  margin-bottom: 0.5em;\n",
       "  /* unfitted */\n",
       "  background-color: var(--sklearn-color-unfitted-level-0);\n",
       "}\n",
       "\n",
       "#sk-container-id-1 div.sk-estimator.fitted {\n",
       "  /* fitted */\n",
       "  background-color: var(--sklearn-color-fitted-level-0);\n",
       "}\n",
       "\n",
       "/* on hover */\n",
       "#sk-container-id-1 div.sk-estimator:hover {\n",
       "  /* unfitted */\n",
       "  background-color: var(--sklearn-color-unfitted-level-2);\n",
       "}\n",
       "\n",
       "#sk-container-id-1 div.sk-estimator.fitted:hover {\n",
       "  /* fitted */\n",
       "  background-color: var(--sklearn-color-fitted-level-2);\n",
       "}\n",
       "\n",
       "/* Specification for estimator info (e.g. \"i\" and \"?\") */\n",
       "\n",
       "/* Common style for \"i\" and \"?\" */\n",
       "\n",
       ".sk-estimator-doc-link,\n",
       "a:link.sk-estimator-doc-link,\n",
       "a:visited.sk-estimator-doc-link {\n",
       "  float: right;\n",
       "  font-size: smaller;\n",
       "  line-height: 1em;\n",
       "  font-family: monospace;\n",
       "  background-color: var(--sklearn-color-background);\n",
       "  border-radius: 1em;\n",
       "  height: 1em;\n",
       "  width: 1em;\n",
       "  text-decoration: none !important;\n",
       "  margin-left: 0.5em;\n",
       "  text-align: center;\n",
       "  /* unfitted */\n",
       "  border: var(--sklearn-color-unfitted-level-1) 1pt solid;\n",
       "  color: var(--sklearn-color-unfitted-level-1);\n",
       "}\n",
       "\n",
       ".sk-estimator-doc-link.fitted,\n",
       "a:link.sk-estimator-doc-link.fitted,\n",
       "a:visited.sk-estimator-doc-link.fitted {\n",
       "  /* fitted */\n",
       "  border: var(--sklearn-color-fitted-level-1) 1pt solid;\n",
       "  color: var(--sklearn-color-fitted-level-1);\n",
       "}\n",
       "\n",
       "/* On hover */\n",
       "div.sk-estimator:hover .sk-estimator-doc-link:hover,\n",
       ".sk-estimator-doc-link:hover,\n",
       "div.sk-label-container:hover .sk-estimator-doc-link:hover,\n",
       ".sk-estimator-doc-link:hover {\n",
       "  /* unfitted */\n",
       "  background-color: var(--sklearn-color-unfitted-level-3);\n",
       "  color: var(--sklearn-color-background);\n",
       "  text-decoration: none;\n",
       "}\n",
       "\n",
       "div.sk-estimator.fitted:hover .sk-estimator-doc-link.fitted:hover,\n",
       ".sk-estimator-doc-link.fitted:hover,\n",
       "div.sk-label-container:hover .sk-estimator-doc-link.fitted:hover,\n",
       ".sk-estimator-doc-link.fitted:hover {\n",
       "  /* fitted */\n",
       "  background-color: var(--sklearn-color-fitted-level-3);\n",
       "  color: var(--sklearn-color-background);\n",
       "  text-decoration: none;\n",
       "}\n",
       "\n",
       "/* Span, style for the box shown on hovering the info icon */\n",
       ".sk-estimator-doc-link span {\n",
       "  display: none;\n",
       "  z-index: 9999;\n",
       "  position: relative;\n",
       "  font-weight: normal;\n",
       "  right: .2ex;\n",
       "  padding: .5ex;\n",
       "  margin: .5ex;\n",
       "  width: min-content;\n",
       "  min-width: 20ex;\n",
       "  max-width: 50ex;\n",
       "  color: var(--sklearn-color-text);\n",
       "  box-shadow: 2pt 2pt 4pt #999;\n",
       "  /* unfitted */\n",
       "  background: var(--sklearn-color-unfitted-level-0);\n",
       "  border: .5pt solid var(--sklearn-color-unfitted-level-3);\n",
       "}\n",
       "\n",
       ".sk-estimator-doc-link.fitted span {\n",
       "  /* fitted */\n",
       "  background: var(--sklearn-color-fitted-level-0);\n",
       "  border: var(--sklearn-color-fitted-level-3);\n",
       "}\n",
       "\n",
       ".sk-estimator-doc-link:hover span {\n",
       "  display: block;\n",
       "}\n",
       "\n",
       "/* \"?\"-specific style due to the `<a>` HTML tag */\n",
       "\n",
       "#sk-container-id-1 a.estimator_doc_link {\n",
       "  float: right;\n",
       "  font-size: 1rem;\n",
       "  line-height: 1em;\n",
       "  font-family: monospace;\n",
       "  background-color: var(--sklearn-color-background);\n",
       "  border-radius: 1rem;\n",
       "  height: 1rem;\n",
       "  width: 1rem;\n",
       "  text-decoration: none;\n",
       "  /* unfitted */\n",
       "  color: var(--sklearn-color-unfitted-level-1);\n",
       "  border: var(--sklearn-color-unfitted-level-1) 1pt solid;\n",
       "}\n",
       "\n",
       "#sk-container-id-1 a.estimator_doc_link.fitted {\n",
       "  /* fitted */\n",
       "  border: var(--sklearn-color-fitted-level-1) 1pt solid;\n",
       "  color: var(--sklearn-color-fitted-level-1);\n",
       "}\n",
       "\n",
       "/* On hover */\n",
       "#sk-container-id-1 a.estimator_doc_link:hover {\n",
       "  /* unfitted */\n",
       "  background-color: var(--sklearn-color-unfitted-level-3);\n",
       "  color: var(--sklearn-color-background);\n",
       "  text-decoration: none;\n",
       "}\n",
       "\n",
       "#sk-container-id-1 a.estimator_doc_link.fitted:hover {\n",
       "  /* fitted */\n",
       "  background-color: var(--sklearn-color-fitted-level-3);\n",
       "}\n",
       "</style><div id=\"sk-container-id-1\" class=\"sk-top-container\"><div class=\"sk-text-repr-fallback\"><pre>ColumnTransformer(remainder=&#x27;passthrough&#x27;,\n",
       "                  transformers=[(&#x27;categoric&#x27;, &#x27;passthrough&#x27;, [&#x27;BOROUGH&#x27;]),\n",
       "                                (&#x27;numeric&#x27;,\n",
       "                                 Pipeline(steps=[(&#x27;imputer&#x27;,\n",
       "                                                  SimpleImputer(strategy=&#x27;median&#x27;)),\n",
       "                                                 (&#x27;scaler&#x27;, StandardScaler())]),\n",
       "                                 [&#x27;GROSS SQUARE FEET&#x27;, &#x27;LAND SQUARE FEET&#x27;,\n",
       "                                  &#x27;COMMERCIAL UNITS&#x27;, &#x27;RESIDENTIAL UNITS&#x27;])])</pre><b>In a Jupyter environment, please rerun this cell to show the HTML representation or trust the notebook. <br />On GitHub, the HTML representation is unable to render, please try loading this page with nbviewer.org.</b></div><div class=\"sk-container\" hidden><div class=\"sk-item sk-dashed-wrapped\"><div class=\"sk-label-container\"><div class=\"sk-label  sk-toggleable\"><input class=\"sk-toggleable__control sk-hidden--visually\" id=\"sk-estimator-id-1\" type=\"checkbox\" ><label for=\"sk-estimator-id-1\" class=\"sk-toggleable__label  sk-toggleable__label-arrow\"><div><div>ColumnTransformer</div></div><div><a class=\"sk-estimator-doc-link \" rel=\"noreferrer\" target=\"_blank\" href=\"https://scikit-learn.org/1.6/modules/generated/sklearn.compose.ColumnTransformer.html\">?<span>Documentation for ColumnTransformer</span></a><span class=\"sk-estimator-doc-link \">i<span>Not fitted</span></span></div></label><div class=\"sk-toggleable__content \"><pre>ColumnTransformer(remainder=&#x27;passthrough&#x27;,\n",
       "                  transformers=[(&#x27;categoric&#x27;, &#x27;passthrough&#x27;, [&#x27;BOROUGH&#x27;]),\n",
       "                                (&#x27;numeric&#x27;,\n",
       "                                 Pipeline(steps=[(&#x27;imputer&#x27;,\n",
       "                                                  SimpleImputer(strategy=&#x27;median&#x27;)),\n",
       "                                                 (&#x27;scaler&#x27;, StandardScaler())]),\n",
       "                                 [&#x27;GROSS SQUARE FEET&#x27;, &#x27;LAND SQUARE FEET&#x27;,\n",
       "                                  &#x27;COMMERCIAL UNITS&#x27;, &#x27;RESIDENTIAL UNITS&#x27;])])</pre></div> </div></div><div class=\"sk-parallel\"><div class=\"sk-parallel-item\"><div class=\"sk-item\"><div class=\"sk-label-container\"><div class=\"sk-label  sk-toggleable\"><input class=\"sk-toggleable__control sk-hidden--visually\" id=\"sk-estimator-id-2\" type=\"checkbox\" ><label for=\"sk-estimator-id-2\" class=\"sk-toggleable__label  sk-toggleable__label-arrow\"><div><div>categoric</div></div></label><div class=\"sk-toggleable__content \"><pre>[&#x27;BOROUGH&#x27;]</pre></div> </div></div><div class=\"sk-serial\"><div class=\"sk-item\"><div class=\"sk-estimator  sk-toggleable\"><input class=\"sk-toggleable__control sk-hidden--visually\" id=\"sk-estimator-id-3\" type=\"checkbox\" ><label for=\"sk-estimator-id-3\" class=\"sk-toggleable__label  sk-toggleable__label-arrow\"><div><div>passthrough</div></div></label><div class=\"sk-toggleable__content \"><pre>passthrough</pre></div> </div></div></div></div></div><div class=\"sk-parallel-item\"><div class=\"sk-item\"><div class=\"sk-label-container\"><div class=\"sk-label  sk-toggleable\"><input class=\"sk-toggleable__control sk-hidden--visually\" id=\"sk-estimator-id-4\" type=\"checkbox\" ><label for=\"sk-estimator-id-4\" class=\"sk-toggleable__label  sk-toggleable__label-arrow\"><div><div>numeric</div></div></label><div class=\"sk-toggleable__content \"><pre>[&#x27;GROSS SQUARE FEET&#x27;, &#x27;LAND SQUARE FEET&#x27;, &#x27;COMMERCIAL UNITS&#x27;, &#x27;RESIDENTIAL UNITS&#x27;]</pre></div> </div></div><div class=\"sk-serial\"><div class=\"sk-item\"><div class=\"sk-serial\"><div class=\"sk-item\"><div class=\"sk-estimator  sk-toggleable\"><input class=\"sk-toggleable__control sk-hidden--visually\" id=\"sk-estimator-id-5\" type=\"checkbox\" ><label for=\"sk-estimator-id-5\" class=\"sk-toggleable__label  sk-toggleable__label-arrow\"><div><div>SimpleImputer</div></div><div><a class=\"sk-estimator-doc-link \" rel=\"noreferrer\" target=\"_blank\" href=\"https://scikit-learn.org/1.6/modules/generated/sklearn.impute.SimpleImputer.html\">?<span>Documentation for SimpleImputer</span></a></div></label><div class=\"sk-toggleable__content \"><pre>SimpleImputer(strategy=&#x27;median&#x27;)</pre></div> </div></div><div class=\"sk-item\"><div class=\"sk-estimator  sk-toggleable\"><input class=\"sk-toggleable__control sk-hidden--visually\" id=\"sk-estimator-id-6\" type=\"checkbox\" ><label for=\"sk-estimator-id-6\" class=\"sk-toggleable__label  sk-toggleable__label-arrow\"><div><div>StandardScaler</div></div><div><a class=\"sk-estimator-doc-link \" rel=\"noreferrer\" target=\"_blank\" href=\"https://scikit-learn.org/1.6/modules/generated/sklearn.preprocessing.StandardScaler.html\">?<span>Documentation for StandardScaler</span></a></div></label><div class=\"sk-toggleable__content \"><pre>StandardScaler()</pre></div> </div></div></div></div></div></div></div><div class=\"sk-parallel-item\"><div class=\"sk-item\"><div class=\"sk-label-container\"><div class=\"sk-label  sk-toggleable\"><input class=\"sk-toggleable__control sk-hidden--visually\" id=\"sk-estimator-id-7\" type=\"checkbox\" ><label for=\"sk-estimator-id-7\" class=\"sk-toggleable__label  sk-toggleable__label-arrow\"><div><div>remainder</div></div></label><div class=\"sk-toggleable__content \"><pre></pre></div> </div></div><div class=\"sk-serial\"><div class=\"sk-item\"><div class=\"sk-estimator  sk-toggleable\"><input class=\"sk-toggleable__control sk-hidden--visually\" id=\"sk-estimator-id-8\" type=\"checkbox\" ><label for=\"sk-estimator-id-8\" class=\"sk-toggleable__label  sk-toggleable__label-arrow\"><div><div>passthrough</div></div></label><div class=\"sk-toggleable__content \"><pre>passthrough</pre></div> </div></div></div></div></div></div></div></div></div>"
      ],
      "text/plain": [
       "ColumnTransformer(remainder='passthrough',\n",
       "                  transformers=[('categoric', 'passthrough', ['BOROUGH']),\n",
       "                                ('numeric',\n",
       "                                 Pipeline(steps=[('imputer',\n",
       "                                                  SimpleImputer(strategy='median')),\n",
       "                                                 ('scaler', StandardScaler())]),\n",
       "                                 ['GROSS SQUARE FEET', 'LAND SQUARE FEET',\n",
       "                                  'COMMERCIAL UNITS', 'RESIDENTIAL UNITS'])])"
      ]
     },
     "execution_count": 16,
     "metadata": {},
     "output_type": "execute_result"
    }
   ],
   "source": [
    "preprocessor"
   ]
  },
  {
   "cell_type": "code",
   "execution_count": 17,
   "metadata": {},
   "outputs": [
    {
     "data": {
      "text/html": [
       "<div>\n",
       "<style scoped>\n",
       "    .dataframe tbody tr th:only-of-type {\n",
       "        vertical-align: middle;\n",
       "    }\n",
       "\n",
       "    .dataframe tbody tr th {\n",
       "        vertical-align: top;\n",
       "    }\n",
       "\n",
       "    .dataframe thead th {\n",
       "        text-align: right;\n",
       "    }\n",
       "</style>\n",
       "<table border=\"1\" class=\"dataframe\">\n",
       "  <thead>\n",
       "    <tr style=\"text-align: right;\">\n",
       "      <th></th>\n",
       "      <th>BOROUGH</th>\n",
       "      <th>GROSS SQUARE FEET</th>\n",
       "      <th>RESIDENTIAL UNITS</th>\n",
       "      <th>COMMERCIAL UNITS</th>\n",
       "      <th>LAND SQUARE FEET</th>\n",
       "    </tr>\n",
       "  </thead>\n",
       "  <tbody>\n",
       "    <tr>\n",
       "      <th>8978</th>\n",
       "      <td>3.0</td>\n",
       "      <td>1300.0</td>\n",
       "      <td>1</td>\n",
       "      <td>0</td>\n",
       "      <td>2000.0</td>\n",
       "    </tr>\n",
       "    <tr>\n",
       "      <th>24392</th>\n",
       "      <td>3.0</td>\n",
       "      <td>2698.0</td>\n",
       "      <td>2</td>\n",
       "      <td>0</td>\n",
       "      <td>2051.0</td>\n",
       "    </tr>\n",
       "    <tr>\n",
       "      <th>20217</th>\n",
       "      <td>4.0</td>\n",
       "      <td>1040.0</td>\n",
       "      <td>1</td>\n",
       "      <td>0</td>\n",
       "      <td>5000.0</td>\n",
       "    </tr>\n",
       "    <tr>\n",
       "      <th>11617</th>\n",
       "      <td>5.0</td>\n",
       "      <td>2910.0</td>\n",
       "      <td>2</td>\n",
       "      <td>0</td>\n",
       "      <td>3840.0</td>\n",
       "    </tr>\n",
       "    <tr>\n",
       "      <th>27930</th>\n",
       "      <td>4.0</td>\n",
       "      <td>4000.0</td>\n",
       "      <td>0</td>\n",
       "      <td>1</td>\n",
       "      <td>4000.0</td>\n",
       "    </tr>\n",
       "    <tr>\n",
       "      <th>12522</th>\n",
       "      <td>3.0</td>\n",
       "      <td>NaN</td>\n",
       "      <td>1</td>\n",
       "      <td>0</td>\n",
       "      <td>NaN</td>\n",
       "    </tr>\n",
       "    <tr>\n",
       "      <th>3077</th>\n",
       "      <td>3.0</td>\n",
       "      <td>NaN</td>\n",
       "      <td>1</td>\n",
       "      <td>0</td>\n",
       "      <td>NaN</td>\n",
       "    </tr>\n",
       "    <tr>\n",
       "      <th>27012</th>\n",
       "      <td>3.0</td>\n",
       "      <td>3000.0</td>\n",
       "      <td>3</td>\n",
       "      <td>0</td>\n",
       "      <td>1500.0</td>\n",
       "    </tr>\n",
       "    <tr>\n",
       "      <th>12129</th>\n",
       "      <td>2.0</td>\n",
       "      <td>2070.0</td>\n",
       "      <td>1</td>\n",
       "      <td>0</td>\n",
       "      <td>2970.0</td>\n",
       "    </tr>\n",
       "    <tr>\n",
       "      <th>8810</th>\n",
       "      <td>3.0</td>\n",
       "      <td>NaN</td>\n",
       "      <td>0</td>\n",
       "      <td>0</td>\n",
       "      <td>NaN</td>\n",
       "    </tr>\n",
       "  </tbody>\n",
       "</table>\n",
       "</div>"
      ],
      "text/plain": [
       "      BOROUGH  GROSS SQUARE FEET  RESIDENTIAL UNITS  COMMERCIAL UNITS  \\\n",
       "8978      3.0             1300.0                  1                 0   \n",
       "24392     3.0             2698.0                  2                 0   \n",
       "20217     4.0             1040.0                  1                 0   \n",
       "11617     5.0             2910.0                  2                 0   \n",
       "27930     4.0             4000.0                  0                 1   \n",
       "12522     3.0                NaN                  1                 0   \n",
       "3077      3.0                NaN                  1                 0   \n",
       "27012     3.0             3000.0                  3                 0   \n",
       "12129     2.0             2070.0                  1                 0   \n",
       "8810      3.0                NaN                  0                 0   \n",
       "\n",
       "       LAND SQUARE FEET  \n",
       "8978             2000.0  \n",
       "24392            2051.0  \n",
       "20217            5000.0  \n",
       "11617            3840.0  \n",
       "27930            4000.0  \n",
       "12522               NaN  \n",
       "3077                NaN  \n",
       "27012            1500.0  \n",
       "12129            2970.0  \n",
       "8810                NaN  "
      ]
     },
     "execution_count": 17,
     "metadata": {},
     "output_type": "execute_result"
    }
   ],
   "source": [
    "data_example = nyc_houses_features.drop(columns=\"SALE PRICE\").sample(10, random_state=42)\n",
    "data_example"
   ]
  },
  {
   "cell_type": "code",
   "execution_count": 18,
   "metadata": {},
   "outputs": [
    {
     "data": {
      "text/plain": [
       "array([[ 3.        , -1.49312987, -1.03476197, -0.33333333, -0.22941573],\n",
       "       [ 3.        ,  0.23028126, -0.98338152, -0.33333333,  0.91766294],\n",
       "       [ 4.        , -1.81364982,  1.98761745, -0.33333333, -0.22941573],\n",
       "       [ 5.        ,  0.49162829,  0.81896408, -0.33333333,  0.91766294],\n",
       "       [ 4.        ,  1.83534655,  0.98015764,  3.        , -1.3764944 ],\n",
       "       [ 3.        ,  0.23028126, -0.05752595, -0.33333333, -0.22941573],\n",
       "       [ 3.        ,  0.23028126, -0.05752595, -0.33333333, -0.22941573],\n",
       "       [ 3.        ,  0.60257751, -1.53849187, -0.33333333,  2.0647416 ],\n",
       "       [ 2.        , -0.5438977 , -0.05752595, -0.33333333, -0.22941573],\n",
       "       [ 3.        ,  0.23028126, -0.05752595, -0.33333333, -1.3764944 ]])"
      ]
     },
     "execution_count": 18,
     "metadata": {},
     "output_type": "execute_result"
    }
   ],
   "source": [
    "preprocessor.fit_transform(data_example)"
   ]
  },
  {
   "cell_type": "markdown",
   "metadata": {},
   "source": [
    "***Train / Test split***"
   ]
  },
  {
   "cell_type": "code",
   "execution_count": 19,
   "metadata": {},
   "outputs": [],
   "source": [
    "# Control\n",
    "nyc_houses_features = nyc_houses_features[nyc_houses_features[\"SALE PRICE\"] > 0]\n",
    "\n",
    "X_features = nyc_houses_features.drop(\"SALE PRICE\", axis=\"columns\")\n",
    "Y_target = nyc_houses_features[\"SALE PRICE\"]\n",
    "\n",
    "# 80% train, 20% test\n",
    "x_train, x_test, y_train, y_test = train_test_split(\n",
    "    X_features, Y_target, test_size=0.2, random_state=42\n",
    ")"
   ]
  },
  {
   "cell_type": "code",
   "execution_count": 20,
   "metadata": {},
   "outputs": [
    {
     "data": {
      "text/plain": [
       "((23343, 5), (23343,))"
      ]
     },
     "execution_count": 20,
     "metadata": {},
     "output_type": "execute_result"
    }
   ],
   "source": [
    "x_train.shape, y_train.shape"
   ]
  },
  {
   "cell_type": "code",
   "execution_count": 21,
   "metadata": {},
   "outputs": [
    {
     "data": {
      "text/plain": [
       "((5836, 5), (5836,))"
      ]
     },
     "execution_count": 21,
     "metadata": {},
     "output_type": "execute_result"
    }
   ],
   "source": [
    "x_test.shape, y_test.shape"
   ]
  },
  {
   "cell_type": "markdown",
   "metadata": {},
   "source": [
    "***Model***"
   ]
  },
  {
   "cell_type": "code",
   "execution_count": 22,
   "metadata": {},
   "outputs": [],
   "source": [
    "class HeuristicModel(BaseEstimator, RegressorMixin):\n",
    "    \"\"\"Heuristic model for NYC HOUSES dataset compatible with scikit-learn.\"\"\"\n",
    "\n",
    "    def fit(self, X, y):\n",
    "        \"\"\"Stores necessary statistics for the heuristic model.\"\"\"\n",
    "\n",
    "        # Ensure X is a DataFrame, even after pipeline transformations\n",
    "        if isinstance(X, np.ndarray):\n",
    "            raise ValueError(\"Feature names are missing. Make sure the pipeline retains feature names.\")\n",
    "\n",
    "        # Store feature names to reattach later\n",
    "        self.feature_names_ = X.columns.tolist()\n",
    "\n",
    "        # Store median price per square foot\n",
    "        self.median_price_per_sqft_ = (y / X[\"GROSS SQUARE FEET\"]).median()\n",
    "\n",
    "        # Store borough median prices\n",
    "        self.borough_medians_ = y.groupby(X[\"BOROUGH\"]).median().to_dict()\n",
    "\n",
    "        return self\n",
    "\n",
    "    def predict(self, X):\n",
    "        \"\"\"Predicts house sale prices based on heuristics.\"\"\"\n",
    "\n",
    "        # If X is a NumPy array, reattach column names\n",
    "        if isinstance(X, np.ndarray):\n",
    "            if not hasattr(self, \"feature_names_\"):\n",
    "                raise ValueError(\"Feature names are missing. Make sure fit() was called first.\")\n",
    "            X = pd.DataFrame(X, columns=self.feature_names_)\n",
    "\n",
    "        predictions = []\n",
    "\n",
    "        for _, row in X.iterrows():\n",
    "            price_per_sqft = min(self.median_price_per_sqft_, 1000)\n",
    "            base_price = row[\"GROSS SQUARE FEET\"] * price_per_sqft\n",
    "\n",
    "            borough_adjustment = self.borough_medians_.get(row[\"BOROUGH\"], self.median_price_per_sqft_) / self.median_price_per_sqft_\n",
    "            adjusted_price = base_price * borough_adjustment\n",
    "\n",
    "            total_units = row[\"COMMERCIAL UNITS\"] + row[\"RESIDENTIAL UNITS\"]\n",
    "            unit_adjustment = 1 + (min(total_units, 10) / 50)\n",
    "            adjusted_price *= unit_adjustment\n",
    "\n",
    "            land_adjustment = min(row[\"LAND SQUARE FEET\"], 10000)\n",
    "            final_price = adjusted_price + land_adjustment\n",
    "\n",
    "            predictions.append(max(final_price, 50000))\n",
    "\n",
    "        return np.array(predictions)\n"
   ]
  },
  {
   "cell_type": "markdown",
   "metadata": {},
   "source": [
    "***Predict and Evaluation***"
   ]
  },
  {
   "cell_type": "code",
   "execution_count": 23,
   "metadata": {},
   "outputs": [],
   "source": [
    "# Model\n",
    "model = HeuristicModel()\n",
    "\n",
    "# Evaluation metrics\n",
    "scoring_metrics = [\"neg_mean_absolute_error\", \"neg_mean_squared_error\", \"r2\"]\n",
    "\n",
    "# KFold for cross-validation\n",
    "kfold = KFold(n_splits=10)\n",
    "\n",
    "# Model pipeline = preprocessor + model\n",
    "model_pipe = Pipeline(steps=[\n",
    "    (\"preprocessor\", preprocessor),  # Preprocessing step\n",
    "    (\"feature_names_restorer\", FunctionTransformer(restore_feature_names, validate=False)),  # Fix feature names\n",
    "    (\"model\", HeuristicModel())  # Model step comes last\n",
    "])\n",
    "\n",
    "# Variable to store the results of the cross-validation\n",
    "cv_results = {}\n",
    "train_results = {}"
   ]
  },
  {
   "cell_type": "code",
   "execution_count": 24,
   "metadata": {},
   "outputs": [],
   "source": [
    "# Cross-validation evaluation for each metric\n",
    "for metric in scoring_metrics:\n",
    "    cv_results[metric] = cross_val_score(\n",
    "        model_pipe, x_train, y_train, cv=kfold, scoring=metric\n",
    "    )\n",
    "    # Evaluate on the training set\n",
    "    model_pipe.fit(x_train, y_train)\n",
    "    y_train_pred = model_pipe.predict(x_train)\n",
    "    \n",
    "    # Compute metrics for training set\n",
    "    if metric == \"neg_mean_absolute_error\":\n",
    "        train_results[metric] = -mean_absolute_error(y_train, y_train_pred)\n",
    "    elif metric == \"neg_mean_squared_error\":\n",
    "        train_results[metric] = -mean_squared_error(y_train, y_train_pred)\n",
    "    elif metric == \"r2\":\n",
    "        train_results[metric] = r2_score(y_train, y_train_pred)"
   ]
  },
  {
   "cell_type": "code",
   "execution_count": 25,
   "metadata": {},
   "outputs": [
    {
     "name": "stdout",
     "output_type": "stream",
     "text": [
      "neg_mean_absolute_error - CV mean: -883939.7294046485, CV std: 29200.661293907444\n",
      "neg_mean_absolute_error - Train score: -883939.1302317611\n",
      "neg_mean_squared_error - CV mean: -2409755611601.201, CV std: 263048144393.0388\n",
      "neg_mean_squared_error - Train score: -2409751222679.0522\n",
      "r2 - CV mean: -0.48404742119244515, CV std: 0.040677337917665264\n",
      "r2 - Train score: -0.4789353482440555\n"
     ]
    }
   ],
   "source": [
    "# Convert results into a pandas DataFrame\n",
    "cv_results_df = pd.DataFrame(cv_results)\n",
    "\n",
    "# Print the mean and standard deviation for each metric\n",
    "for metric_name in scoring_metrics:\n",
    "    print(\n",
    "        f\"{metric_name} - CV mean: {cv_results_df[metric_name].mean()}, \"\n",
    "        f\"CV std: {cv_results_df[metric_name].std()}\"\n",
    "    )\n",
    "    print(f\"{metric_name} - Train score: {train_results[metric_name]}\")"
   ]
  },
  {
   "cell_type": "code",
   "execution_count": 26,
   "metadata": {},
   "outputs": [
    {
     "data": {
      "image/png": "[encoded data removed]",
      "text/plain": [
       "<Figure size 640x480 with 1 Axes>"
      ]
     },
     "metadata": {},
     "output_type": "display_data"
    }
   ],
   "source": [
    "# Create a boxplot for the cross-validation results of each metric\n",
    "ax_ = cv_results_df.plot.box(title=\"Cross Validation Boxplot\", ylabel=\"Score\")\n",
    "ax_.set_xticklabels(ax_.get_xticklabels(), rotation=30, ha=\"right\");"
   ]
  },
  {
   "cell_type": "code",
   "execution_count": 27,
   "metadata": {},
   "outputs": [
    {
     "data": {
      "text/plain": [
       "<Figure size 600x400 with 0 Axes>"
      ]
     },
     "metadata": {},
     "output_type": "display_data"
    },
    {
     "data": {
      "image/png": "[encoded data removed]",
      "text/plain": [
       "<Figure size 640x480 with 1 Axes>"
      ]
     },
     "metadata": {},
     "output_type": "display_data"
    },
    {
     "data": {
      "text/plain": [
       "<Figure size 600x400 with 0 Axes>"
      ]
     },
     "metadata": {},
     "output_type": "display_data"
    },
    {
     "data": {
      "image/png": "[encoded data removed]",
      "text/plain": [
       "<Figure size 640x480 with 1 Axes>"
      ]
     },
     "metadata": {},
     "output_type": "display_data"
    },
    {
     "data": {
      "text/plain": [
       "<Figure size 600x400 with 0 Axes>"
      ]
     },
     "metadata": {},
     "output_type": "display_data"
    },
    {
     "data": {
      "image/png": "[encoded data removed]",
      "text/plain": [
       "<Figure size 640x480 with 1 Axes>"
      ]
     },
     "metadata": {},
     "output_type": "display_data"
    }
   ],
   "source": [
    "# Create a DataFrame for the training and cross-validation metrics\n",
    "metrics_df = pd.DataFrame(\n",
    "    {\n",
    "        \"Metric\": scoring_metrics,\n",
    "        \"Train Score\": [train_results[metric] for metric in scoring_metrics],\n",
    "        \"CV Mean\": [cv_results_df[metric].mean() for metric in scoring_metrics],\n",
    "        \"CV Std\": [cv_results_df[metric].std() for metric in scoring_metrics],\n",
    "    }\n",
    ")\n",
    "\n",
    "# Iterate over each metric and plot it separately\n",
    "for metric in scoring_metrics:\n",
    "    plt.figure(figsize=(6, 4))  # Adjust figure size\n",
    "    \n",
    "    # Create a DataFrame with only the current metric\n",
    "    metric_df = metrics_df[metrics_df[\"Metric\"] == metric]\n",
    "\n",
    "    # Plot the metric\n",
    "    ax = metric_df.plot(\n",
    "        kind=\"bar\",\n",
    "        x=\"Metric\",\n",
    "        y=[\"Train Score\", \"CV Mean\"],\n",
    "        yerr=\"CV Std\",\n",
    "        title=f\"{metric} - Training vs Cross-Validation\",\n",
    "        ylabel=\"Score\",\n",
    "        capsize=4,\n",
    "        legend=True,\n",
    "    )\n",
    "\n",
    "    # Rotate labels for better clarity\n",
    "    ax.set_xticklabels(ax.get_xticklabels(), rotation=30, ha=\"right\")\n",
    "\n",
    "    plt.show()"
   ]
  },
  {
   "cell_type": "code",
   "execution_count": 28,
   "metadata": {},
   "outputs": [
    {
     "data": {
      "image/png": "[encoded data removed]",
      "text/plain": [
       "<Figure size 800x600 with 1 Axes>"
      ]
     },
     "metadata": {},
     "output_type": "display_data"
    }
   ],
   "source": [
    "# Parameters for the learning curve\n",
    "train_sizes, train_scores, test_scores = learning_curve(\n",
    "    model_pipe, x_train, y_train, cv=kfold, \n",
    "    train_sizes=np.linspace(0.1, 1.0, 5), \n",
    "    scoring=\"neg_mean_absolute_error\", \n",
    "    n_jobs=-1\n",
    ")\n",
    "\n",
    "# Compute mean and standard deviation\n",
    "train_mean = np.mean(train_scores, axis=1)\n",
    "train_std = np.std(train_scores, axis=1)\n",
    "test_mean = np.mean(test_scores, axis=1)\n",
    "test_std = np.std(test_scores, axis=1)\n",
    "\n",
    "# Plot the learning curve\n",
    "plt.figure(figsize=(8, 6))\n",
    "plt.plot(train_sizes, -train_mean, \"o-\", label=\"Training score\")\n",
    "plt.plot(train_sizes, -test_mean, \"o-\", label=\"Cross-validation score\", color=\"orange\")\n",
    "plt.fill_between(train_sizes, -train_mean - train_std, -train_mean + train_std, alpha=0.3)\n",
    "plt.fill_between(train_sizes, -test_mean - test_std, -test_mean + test_std, alpha=0.3, color=\"orange\")\n",
    "\n",
    "plt.title(\"Learning Curve - Mean Absolute Error\")\n",
    "plt.xlabel(\"Training examples\")\n",
    "plt.ylabel(\"Mean Absolute Error\")\n",
    "plt.legend()\n",
    "plt.show()\n"
   ]
  },
  {
   "cell_type": "markdown",
   "metadata": {},
   "source": [
    "# 😢😢😢 ***Analysis of the Results of All Metrics***\n",
    "\n",
    "## **Mean Absolute Error (MAE)**\n",
    "- **CV Mean**: -883,939.73  \n",
    "- **CV Std**: 29,200.66  \n",
    "- **Train Score**: -883,939.13  \n",
    "- **Interpretation**:  \n",
    "  The mean absolute error in cross-validation is almost identical to the training error, suggesting that the model is not overfitting. However, the absolute error value is quite high, indicating that the model struggles to predict housing prices accurately. The standard deviation of 29,200 suggests moderate variability in the model’s predictions across different folds.\n",
    "\n",
    "## **Mean Squared Error (MSE)**\n",
    "- **CV Mean**: -2,409,755,611,601.20  \n",
    "- **CV Std**: 263,048,144,393.04  \n",
    "- **Train Score**: -2,409,751,222,679.05  \n",
    "- **Interpretation**:  \n",
    "  The mean squared error is extremely high, indicating that some predictions have significant errors. The large standard deviation also suggests that the model struggles with certain subsets of the data and may be influenced by outliers.\n",
    "\n",
    "## **R² Score**\n",
    "- **CV Mean**: -0.484  \n",
    "- **CV Std**: 0.041  \n",
    "- **Train Score**: -0.479  \n",
    "- **Interpretation**:  \n",
    "  A negative R² score means that the model performs worse than a baseline model that simply predicts the average housing price. This suggests that the relationship between the input variables and the target price is not well captured. Additionally, the low standard deviation indicates that this poor performance is consistent across different validation folds."
   ]
  },
  {
   "cell_type": "markdown",
   "metadata": {},
   "source": [
    "# 🧑‍🔬 ***Recommendations***\n",
    "***Do NOT Continue with the Current Model:*** Given the poor generalization and negative performance indicators (e.g., negative R² score), this model is not suitable for deployment. The extreme errors indicate that it does not effectively capture the underlying patterns in the data.\n",
    "\n",
    "***Reassess Feature Engineering & Model Selection:*** The current model is likely too simplistic or not well suited for the data. Further exploration of alternative regression models and feature transformations is necessary before proceeding.\n",
    "\n",
    "***Address Model Limitations:*** The high error values and negative R² suggest potential issues with outliers, data transformations, or feature selection. Improvements in these areas should be prioritized before fine-tuning hyperparameters."
   ]
  },
  {
   "cell_type": "markdown",
   "metadata": {},
   "source": [
    "# 💡 ***Proposals and Ideas***\n",
    "## ***Use More Robust Models***\n",
    "***Proposal:*** Test alternative models such as Random Forest, Gradient Boosting Machines (XGBoost, LightGBM), etc."
   ]
  },
  {
   "cell_type": "markdown",
   "metadata": {},
   "source": [
    "# 📌 ***Conclusion***\n",
    "The current model is not reliable for predicting NYC house prices. The negative R² score and large errors indicate significant room for improvement.\n",
    "\n",
    "***Next Steps:***\n",
    "Experiment with alternative regression models to find a better fit for the dataset. \n",
    "\n",
    "# 🚀"
   ]
  }
 ],
 "metadata": {
  "kernelspec": {
   "display_name": "Python 3",
   "language": "python",
   "name": "python3"
  },
  "language_info": {
   "codemirror_mode": {
    "name": "ipython",
    "version": 3
   },
   "file_extension": ".py",
   "mimetype": "text/x-python",
   "name": "python",
   "nbconvert_exporter": "python",
   "pygments_lexer": "ipython3",
   "version": "3.11.9"
  }
 },
 "nbformat": 4,
 "nbformat_minor": 2
}
